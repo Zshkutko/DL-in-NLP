{
  "nbformat": 4,
  "nbformat_minor": 0,
  "metadata": {
    "kernelspec": {
      "display_name": "Python 3",
      "language": "python",
      "name": "python3"
    },
    "language_info": {
      "codemirror_mode": {
        "name": "ipython",
        "version": 3
      },
      "file_extension": ".py",
      "mimetype": "text/x-python",
      "name": "python",
      "nbconvert_exporter": "python",
      "pygments_lexer": "ipython3",
      "version": "3.6.8"
    },
    "colab": {
      "name": "Homework2_word2vec.ipynb",
      "provenance": [],
      "collapsed_sections": [
        "wN7muY8Mcn3b"
      ]
    }
  },
  "cells": [
    {
      "cell_type": "code",
      "metadata": {
        "id": "uuhLGLcmcn23"
      },
      "source": [
        "import json\n",
        "import random\n",
        "from tqdm import tqdm\n",
        "import numpy as np\n",
        "\n",
        "from matplotlib import pyplot as plt\n",
        "from sklearn.decomposition import TruncatedSVD\n",
        "from sklearn.manifold import TSNE\n",
        "\n",
        "import torch\n",
        "\n",
        "from pylab import rcParams\n",
        "rcParams['figure.figsize'] = 15, 15"
      ],
      "execution_count": null,
      "outputs": []
    },
    {
      "cell_type": "markdown",
      "metadata": {
        "id": "1BWBQHMqcn28"
      },
      "source": [
        "# Что делать?\n",
        "Где есть пометка # CODE писать код\n",
        "\n",
        "[Полезный туториал](http://jalammar.github.io/illustrated-word2vec/)"
      ]
    },
    {
      "cell_type": "markdown",
      "metadata": {
        "id": "wJvChtOCcn2-"
      },
      "source": [
        "# Загружаем данные\n",
        "Они уже обработанные и токенизированные. Процесс можно посмотреть в тетрадке 1.1 Processing corpus"
      ]
    },
    {
      "cell_type": "code",
      "metadata": {
        "id": "I8jDlffkcn2_"
      },
      "source": [
        "with open('data/processed_corpus.json') as f:\n",
        "    corpus = json.load(f)"
      ],
      "execution_count": null,
      "outputs": []
    },
    {
      "cell_type": "code",
      "metadata": {
        "id": "tJ_lkwJLcn3A",
        "colab": {
          "base_uri": "https://localhost:8080/"
        },
        "outputId": "61545245-fe0a-4df0-9fc8-20a9b645980c"
      },
      "source": [
        "len(corpus)"
      ],
      "execution_count": null,
      "outputs": [
        {
          "output_type": "execute_result",
          "data": {
            "text/plain": [
              "100000"
            ]
          },
          "metadata": {},
          "execution_count": 3
        }
      ]
    },
    {
      "cell_type": "code",
      "metadata": {
        "id": "ChGOq0jHcn3C",
        "colab": {
          "base_uri": "https://localhost:8080/"
        },
        "outputId": "4dcb7efa-172e-487b-bfcb-5e44c9e83e30"
      },
      "source": [
        "for text in corpus[:5]:\n",
        "    print(' '.join(text))"
      ],
      "execution_count": null,
      "outputs": [
        {
          "output_type": "stream",
          "name": "stdout",
          "text": [
            "второй UNK год окончательно разочаровать решить податься альфабанк\n",
            "вернуть денежный средство лицевой счёт либо зачесть счёт погашение кредит\n",
            "притом ситуация решиться участие течение сутки заявить\n",
            "мой ##число летний жизнь это самый неповоротливый работник банк который видеть\n",
            "везде написать вклад принимать очередь это\n"
          ]
        }
      ]
    },
    {
      "cell_type": "markdown",
      "metadata": {
        "id": "3mPJCPVzcn3D"
      },
      "source": [
        "# CBOW"
      ]
    },
    {
      "cell_type": "code",
      "metadata": {
        "id": "ih07Kn2scn3D"
      },
      "source": [
        "sample_text = corpus[1]"
      ],
      "execution_count": null,
      "outputs": []
    },
    {
      "cell_type": "code",
      "metadata": {
        "id": "I5KDN6RUcn3E",
        "colab": {
          "base_uri": "https://localhost:8080/",
          "height": 35
        },
        "outputId": "43a68a01-66a5-4c94-e152-770d1228bc9b"
      },
      "source": [
        "' '.join(sample_text)"
      ],
      "execution_count": null,
      "outputs": [
        {
          "output_type": "execute_result",
          "data": {
            "application/vnd.google.colaboratory.intrinsic+json": {
              "type": "string"
            },
            "text/plain": [
              "'вернуть денежный средство лицевой счёт либо зачесть счёт погашение кредит'"
            ]
          },
          "metadata": {},
          "execution_count": 6
        }
      ]
    },
    {
      "cell_type": "markdown",
      "metadata": {
        "id": "gebxUSDocn3F"
      },
      "source": [
        "# Реализуйте разделение предложения на примеры методом CBOW"
      ]
    },
    {
      "cell_type": "code",
      "metadata": {
        "id": "i0jvFhmKcn3G"
      },
      "source": [
        "#хз\n",
        "\n",
        "def cbow_split(tokens, window, pad_token='PAD'):\n",
        "    \n",
        "    splits = []\n",
        "    template = [pad_token] * window + tokens + [pad_token] * window\n",
        "    for i, token in enumerate(tokens):\n",
        "        left = template[i:(i + window)]\n",
        "        right = template[(i + window + 1):(i + 2 * window + 1)]\n",
        "        splits.append((left, token, right))\n",
        "        \n",
        "    return splits"
      ],
      "execution_count": null,
      "outputs": []
    },
    {
      "cell_type": "code",
      "metadata": {
        "id": "eO6JcRrycn3G"
      },
      "source": [
        "splits = cbow_split(sample_text, window=2)"
      ],
      "execution_count": null,
      "outputs": []
    },
    {
      "cell_type": "code",
      "metadata": {
        "id": "qi6WJN2jcn3G",
        "colab": {
          "base_uri": "https://localhost:8080/"
        },
        "outputId": "9c57a525-0385-4e72-9f5b-5ecf2a203f36"
      },
      "source": [
        "for sample in splits:\n",
        "    print('Левый контекст:', sample[0])\n",
        "    print('Центральное слово:', sample[1])\n",
        "    print('Правый контекст:', sample[2], end='\\n\\n')"
      ],
      "execution_count": null,
      "outputs": [
        {
          "output_type": "stream",
          "name": "stdout",
          "text": [
            "Левый контекст: ['PAD', 'PAD']\n",
            "Центральное слово: вернуть\n",
            "Правый контекст: ['денежный', 'средство']\n",
            "\n",
            "Левый контекст: ['PAD', 'вернуть']\n",
            "Центральное слово: денежный\n",
            "Правый контекст: ['средство', 'лицевой']\n",
            "\n",
            "Левый контекст: ['вернуть', 'денежный']\n",
            "Центральное слово: средство\n",
            "Правый контекст: ['лицевой', 'счёт']\n",
            "\n",
            "Левый контекст: ['денежный', 'средство']\n",
            "Центральное слово: лицевой\n",
            "Правый контекст: ['счёт', 'либо']\n",
            "\n",
            "Левый контекст: ['средство', 'лицевой']\n",
            "Центральное слово: счёт\n",
            "Правый контекст: ['либо', 'зачесть']\n",
            "\n",
            "Левый контекст: ['лицевой', 'счёт']\n",
            "Центральное слово: либо\n",
            "Правый контекст: ['зачесть', 'счёт']\n",
            "\n",
            "Левый контекст: ['счёт', 'либо']\n",
            "Центральное слово: зачесть\n",
            "Правый контекст: ['счёт', 'погашение']\n",
            "\n",
            "Левый контекст: ['либо', 'зачесть']\n",
            "Центральное слово: счёт\n",
            "Правый контекст: ['погашение', 'кредит']\n",
            "\n",
            "Левый контекст: ['зачесть', 'счёт']\n",
            "Центральное слово: погашение\n",
            "Правый контекст: ['кредит', 'PAD']\n",
            "\n",
            "Левый контекст: ['счёт', 'погашение']\n",
            "Центральное слово: кредит\n",
            "Правый контекст: ['PAD', 'PAD']\n",
            "\n"
          ]
        }
      ]
    },
    {
      "cell_type": "code",
      "metadata": {
        "id": "aTHW8VwWcn3H",
        "colab": {
          "base_uri": "https://localhost:8080/"
        },
        "outputId": "233a3588-da2d-4adf-bc04-112efdd02871"
      },
      "source": [
        "splits"
      ],
      "execution_count": null,
      "outputs": [
        {
          "output_type": "execute_result",
          "data": {
            "text/plain": [
              "[(['PAD', 'PAD'], 'вернуть', ['денежный', 'средство']),\n",
              " (['PAD', 'вернуть'], 'денежный', ['средство', 'лицевой']),\n",
              " (['вернуть', 'денежный'], 'средство', ['лицевой', 'счёт']),\n",
              " (['денежный', 'средство'], 'лицевой', ['счёт', 'либо']),\n",
              " (['средство', 'лицевой'], 'счёт', ['либо', 'зачесть']),\n",
              " (['лицевой', 'счёт'], 'либо', ['зачесть', 'счёт']),\n",
              " (['счёт', 'либо'], 'зачесть', ['счёт', 'погашение']),\n",
              " (['либо', 'зачесть'], 'счёт', ['погашение', 'кредит']),\n",
              " (['зачесть', 'счёт'], 'погашение', ['кредит', 'PAD']),\n",
              " (['счёт', 'погашение'], 'кредит', ['PAD', 'PAD'])]"
            ]
          },
          "metadata": {},
          "execution_count": 10
        }
      ]
    },
    {
      "cell_type": "code",
      "metadata": {
        "id": "awn5qqDDw6mH"
      },
      "source": [
        "example = 'вопрос почему например китайский японский UNK'.split()"
      ],
      "execution_count": null,
      "outputs": []
    },
    {
      "cell_type": "markdown",
      "metadata": {
        "id": "wctREA1Icn3I"
      },
      "source": [
        "# Expected\n",
        "\n",
        "```python\n",
        "[(['PAD', 'PAD'], 'вопрос', ['почему', 'например']),\n",
        " (['PAD', 'вопрос'], 'почему', ['например', 'китайский']),\n",
        " (['вопрос', 'почему'], 'например', ['китайский', 'японский']),\n",
        " (['почему', 'например'], 'китайский', ['японский', 'UNK']),\n",
        " (['например', 'китайский'], 'японский', ['UNK', 'PAD']),\n",
        " (['китайский', 'японский'], 'UNK', ['PAD', 'PAD'])]\n",
        "```"
      ]
    },
    {
      "cell_type": "code",
      "metadata": {
        "colab": {
          "base_uri": "https://localhost:8080/"
        },
        "id": "cQIVIk5ouhdZ",
        "outputId": "a8a1be0a-8521-4148-a16f-d8d9344eb6c6"
      },
      "source": [
        "cbow_split(example, window=2)"
      ],
      "execution_count": null,
      "outputs": [
        {
          "output_type": "execute_result",
          "data": {
            "text/plain": [
              "[(['PAD', 'PAD'], 'вопрос', ['почему', 'например']),\n",
              " (['PAD', 'вопрос'], 'почему', ['например', 'китайский']),\n",
              " (['вопрос', 'почему'], 'например', ['китайский', 'японский']),\n",
              " (['почему', 'например'], 'китайский', ['японский', 'UNK']),\n",
              " (['например', 'китайский'], 'японский', ['UNK', 'PAD']),\n",
              " (['китайский', 'японский'], 'UNK', ['PAD', 'PAD'])]"
            ]
          },
          "metadata": {},
          "execution_count": 12
        }
      ]
    },
    {
      "cell_type": "markdown",
      "metadata": {
        "id": "uVDVlwtEcn3J"
      },
      "source": [
        "# Expected\n",
        "\n",
        "```python\n",
        "[(['PAD', 'PAD', 'PAD'], 'вопрос', ['почему', 'например', 'китайский']),\n",
        " (['PAD', 'PAD', 'вопрос'], 'почему', ['например', 'китайский', 'японский']),\n",
        " (['PAD', 'вопрос', 'почему'], 'например', ['китайский', 'японский', 'UNK']),\n",
        " (['вопрос', 'почему', 'например'], 'китайский', ['японский', 'UNK', 'PAD']),\n",
        " (['почему', 'например', 'китайский'], 'японский', ['UNK', 'PAD', 'PAD']),\n",
        " (['например', 'китайский', 'японский'], 'UNK', ['PAD', 'PAD', 'PAD'])]\n",
        "```"
      ]
    },
    {
      "cell_type": "code",
      "metadata": {
        "colab": {
          "base_uri": "https://localhost:8080/"
        },
        "id": "hRCNXqCEvIUQ",
        "outputId": "a2027751-05bf-4b00-bcec-d62a76d420bf"
      },
      "source": [
        "cbow_split(example, window=3)"
      ],
      "execution_count": null,
      "outputs": [
        {
          "output_type": "execute_result",
          "data": {
            "text/plain": [
              "[(['PAD', 'PAD', 'PAD'], 'вопрос', ['почему', 'например', 'китайский']),\n",
              " (['PAD', 'PAD', 'вопрос'], 'почему', ['например', 'китайский', 'японский']),\n",
              " (['PAD', 'вопрос', 'почему'], 'например', ['китайский', 'японский', 'UNK']),\n",
              " (['вопрос', 'почему', 'например'], 'китайский', ['японский', 'UNK', 'PAD']),\n",
              " (['почему', 'например', 'китайский'], 'японский', ['UNK', 'PAD', 'PAD']),\n",
              " (['например', 'китайский', 'японский'], 'UNK', ['PAD', 'PAD', 'PAD'])]"
            ]
          },
          "metadata": {},
          "execution_count": 13
        }
      ]
    },
    {
      "cell_type": "markdown",
      "metadata": {
        "id": "mYqkEQRlcn3J"
      },
      "source": [
        "# Skipgram"
      ]
    },
    {
      "cell_type": "code",
      "metadata": {
        "id": "ahfIeomTcn3K",
        "colab": {
          "base_uri": "https://localhost:8080/",
          "height": 35
        },
        "outputId": "f31da7ba-7d18-4b55-ffea-d6559e064e26"
      },
      "source": [
        "' '.join(sample_text)"
      ],
      "execution_count": null,
      "outputs": [
        {
          "output_type": "execute_result",
          "data": {
            "application/vnd.google.colaboratory.intrinsic+json": {
              "type": "string"
            },
            "text/plain": [
              "'вернуть денежный средство лицевой счёт либо зачесть счёт погашение кредит'"
            ]
          },
          "metadata": {},
          "execution_count": 14
        }
      ]
    },
    {
      "cell_type": "markdown",
      "metadata": {
        "id": "BKuiHTLqcn3K"
      },
      "source": [
        "# Реализуйте разделение предложения на примеры методом Skipgram"
      ]
    },
    {
      "cell_type": "code",
      "metadata": {
        "id": "8-hZhni9cn3L"
      },
      "source": [
        "def skipgram_split(tokens, window):\n",
        "    \n",
        "    splits = []\n",
        "    \n",
        "    for i, token in enumerate(tokens):\n",
        "        for j in range(max(i - window, 0), i):\n",
        "            splits.append((tokens[j], token))\n",
        "            \n",
        "        if i != len(tokens) - 1:\n",
        "            for j in range(i + 1, min(len(tokens), i + 1 + window)):\n",
        "                splits.append((tokens[j], token))\n",
        "    \n",
        "    return splits"
      ],
      "execution_count": null,
      "outputs": []
    },
    {
      "cell_type": "code",
      "metadata": {
        "id": "B_p9hN6ncn3L"
      },
      "source": [
        "splits = skipgram_split(sample_text, window=2)"
      ],
      "execution_count": null,
      "outputs": []
    },
    {
      "cell_type": "code",
      "metadata": {
        "id": "rc3Q74Bkcn3L",
        "colab": {
          "base_uri": "https://localhost:8080/"
        },
        "outputId": "00957aeb-9bd1-47d0-837b-eead7388f1dd"
      },
      "source": [
        "for sample in splits:\n",
        "    print('Контекст:', sample[0])\n",
        "    print('Центральное слово:', sample[1], end='\\n\\n')"
      ],
      "execution_count": null,
      "outputs": [
        {
          "output_type": "stream",
          "name": "stdout",
          "text": [
            "Контекст: денежный\n",
            "Центральное слово: вернуть\n",
            "\n",
            "Контекст: средство\n",
            "Центральное слово: вернуть\n",
            "\n",
            "Контекст: вернуть\n",
            "Центральное слово: денежный\n",
            "\n",
            "Контекст: средство\n",
            "Центральное слово: денежный\n",
            "\n",
            "Контекст: лицевой\n",
            "Центральное слово: денежный\n",
            "\n",
            "Контекст: вернуть\n",
            "Центральное слово: средство\n",
            "\n",
            "Контекст: денежный\n",
            "Центральное слово: средство\n",
            "\n",
            "Контекст: лицевой\n",
            "Центральное слово: средство\n",
            "\n",
            "Контекст: счёт\n",
            "Центральное слово: средство\n",
            "\n",
            "Контекст: денежный\n",
            "Центральное слово: лицевой\n",
            "\n",
            "Контекст: средство\n",
            "Центральное слово: лицевой\n",
            "\n",
            "Контекст: счёт\n",
            "Центральное слово: лицевой\n",
            "\n",
            "Контекст: либо\n",
            "Центральное слово: лицевой\n",
            "\n",
            "Контекст: средство\n",
            "Центральное слово: счёт\n",
            "\n",
            "Контекст: лицевой\n",
            "Центральное слово: счёт\n",
            "\n",
            "Контекст: либо\n",
            "Центральное слово: счёт\n",
            "\n",
            "Контекст: зачесть\n",
            "Центральное слово: счёт\n",
            "\n",
            "Контекст: лицевой\n",
            "Центральное слово: либо\n",
            "\n",
            "Контекст: счёт\n",
            "Центральное слово: либо\n",
            "\n",
            "Контекст: зачесть\n",
            "Центральное слово: либо\n",
            "\n",
            "Контекст: счёт\n",
            "Центральное слово: либо\n",
            "\n",
            "Контекст: счёт\n",
            "Центральное слово: зачесть\n",
            "\n",
            "Контекст: либо\n",
            "Центральное слово: зачесть\n",
            "\n",
            "Контекст: счёт\n",
            "Центральное слово: зачесть\n",
            "\n",
            "Контекст: погашение\n",
            "Центральное слово: зачесть\n",
            "\n",
            "Контекст: либо\n",
            "Центральное слово: счёт\n",
            "\n",
            "Контекст: зачесть\n",
            "Центральное слово: счёт\n",
            "\n",
            "Контекст: погашение\n",
            "Центральное слово: счёт\n",
            "\n",
            "Контекст: кредит\n",
            "Центральное слово: счёт\n",
            "\n",
            "Контекст: зачесть\n",
            "Центральное слово: погашение\n",
            "\n",
            "Контекст: счёт\n",
            "Центральное слово: погашение\n",
            "\n",
            "Контекст: кредит\n",
            "Центральное слово: погашение\n",
            "\n",
            "Контекст: счёт\n",
            "Центральное слово: кредит\n",
            "\n",
            "Контекст: погашение\n",
            "Центральное слово: кредит\n",
            "\n"
          ]
        }
      ]
    },
    {
      "cell_type": "code",
      "metadata": {
        "id": "wgp2i5Afcn3M",
        "colab": {
          "base_uri": "https://localhost:8080/"
        },
        "outputId": "16bb986d-bba9-4bf0-976f-51962cacd5a9"
      },
      "source": [
        "skipgram_split(sample_text, window=2)"
      ],
      "execution_count": null,
      "outputs": [
        {
          "output_type": "execute_result",
          "data": {
            "text/plain": [
              "[('денежный', 'вернуть'),\n",
              " ('средство', 'вернуть'),\n",
              " ('вернуть', 'денежный'),\n",
              " ('средство', 'денежный'),\n",
              " ('лицевой', 'денежный'),\n",
              " ('вернуть', 'средство'),\n",
              " ('денежный', 'средство'),\n",
              " ('лицевой', 'средство'),\n",
              " ('счёт', 'средство'),\n",
              " ('денежный', 'лицевой'),\n",
              " ('средство', 'лицевой'),\n",
              " ('счёт', 'лицевой'),\n",
              " ('либо', 'лицевой'),\n",
              " ('средство', 'счёт'),\n",
              " ('лицевой', 'счёт'),\n",
              " ('либо', 'счёт'),\n",
              " ('зачесть', 'счёт'),\n",
              " ('лицевой', 'либо'),\n",
              " ('счёт', 'либо'),\n",
              " ('зачесть', 'либо'),\n",
              " ('счёт', 'либо'),\n",
              " ('счёт', 'зачесть'),\n",
              " ('либо', 'зачесть'),\n",
              " ('счёт', 'зачесть'),\n",
              " ('погашение', 'зачесть'),\n",
              " ('либо', 'счёт'),\n",
              " ('зачесть', 'счёт'),\n",
              " ('погашение', 'счёт'),\n",
              " ('кредит', 'счёт'),\n",
              " ('зачесть', 'погашение'),\n",
              " ('счёт', 'погашение'),\n",
              " ('кредит', 'погашение'),\n",
              " ('счёт', 'кредит'),\n",
              " ('погашение', 'кредит')]"
            ]
          },
          "metadata": {},
          "execution_count": 18
        }
      ]
    },
    {
      "cell_type": "code",
      "metadata": {
        "colab": {
          "base_uri": "https://localhost:8080/"
        },
        "id": "TdLj3iR7xdTS",
        "outputId": "2a60996f-2683-4f1c-85ba-2f0071e3ca75"
      },
      "source": [
        "skipgram_split(example, window=2)"
      ],
      "execution_count": null,
      "outputs": [
        {
          "output_type": "execute_result",
          "data": {
            "text/plain": [
              "[('почему', 'вопрос'),\n",
              " ('например', 'вопрос'),\n",
              " ('вопрос', 'почему'),\n",
              " ('например', 'почему'),\n",
              " ('китайский', 'почему'),\n",
              " ('вопрос', 'например'),\n",
              " ('почему', 'например'),\n",
              " ('китайский', 'например'),\n",
              " ('японский', 'например'),\n",
              " ('почему', 'китайский'),\n",
              " ('например', 'китайский'),\n",
              " ('японский', 'китайский'),\n",
              " ('UNK', 'китайский'),\n",
              " ('например', 'японский'),\n",
              " ('китайский', 'японский'),\n",
              " ('UNK', 'японский'),\n",
              " ('китайский', 'UNK'),\n",
              " ('японский', 'UNK')]"
            ]
          },
          "metadata": {},
          "execution_count": 19
        }
      ]
    },
    {
      "cell_type": "markdown",
      "metadata": {
        "id": "SXjTMLnycn3M"
      },
      "source": [
        "# Expected\n",
        "\n",
        "```python\n",
        "[('почему', 'вопрос'),\n",
        " ('например', 'вопрос'),\n",
        " ('вопрос', 'почему'),\n",
        " ('например', 'почему'),\n",
        " ('китайский', 'почему'),\n",
        " ('вопрос', 'например'),\n",
        " ('почему', 'например'),\n",
        " ('китайский', 'например'),\n",
        " ('японский', 'например'),\n",
        " ('почему', 'китайский'),\n",
        " ('например', 'китайский'),\n",
        " ('японский', 'китайский'),\n",
        " ('UNK', 'китайский'),\n",
        " ('например', 'японский'),\n",
        " ('китайский', 'японский'),\n",
        " ('UNK', 'японский'),\n",
        " ('китайский', 'UNK'),\n",
        " ('японский', 'UNK')]\n",
        "```"
      ]
    },
    {
      "cell_type": "code",
      "metadata": {
        "id": "zmeAj-NHcn3N",
        "colab": {
          "base_uri": "https://localhost:8080/"
        },
        "outputId": "56bd029b-d5af-418d-8b8a-4683ee3a34a8"
      },
      "source": [
        "skipgram_split(sample_text, window=3)"
      ],
      "execution_count": null,
      "outputs": [
        {
          "output_type": "execute_result",
          "data": {
            "text/plain": [
              "[('денежный', 'вернуть'),\n",
              " ('средство', 'вернуть'),\n",
              " ('лицевой', 'вернуть'),\n",
              " ('вернуть', 'денежный'),\n",
              " ('средство', 'денежный'),\n",
              " ('лицевой', 'денежный'),\n",
              " ('счёт', 'денежный'),\n",
              " ('вернуть', 'средство'),\n",
              " ('денежный', 'средство'),\n",
              " ('лицевой', 'средство'),\n",
              " ('счёт', 'средство'),\n",
              " ('либо', 'средство'),\n",
              " ('вернуть', 'лицевой'),\n",
              " ('денежный', 'лицевой'),\n",
              " ('средство', 'лицевой'),\n",
              " ('счёт', 'лицевой'),\n",
              " ('либо', 'лицевой'),\n",
              " ('зачесть', 'лицевой'),\n",
              " ('денежный', 'счёт'),\n",
              " ('средство', 'счёт'),\n",
              " ('лицевой', 'счёт'),\n",
              " ('либо', 'счёт'),\n",
              " ('зачесть', 'счёт'),\n",
              " ('счёт', 'счёт'),\n",
              " ('средство', 'либо'),\n",
              " ('лицевой', 'либо'),\n",
              " ('счёт', 'либо'),\n",
              " ('зачесть', 'либо'),\n",
              " ('счёт', 'либо'),\n",
              " ('погашение', 'либо'),\n",
              " ('лицевой', 'зачесть'),\n",
              " ('счёт', 'зачесть'),\n",
              " ('либо', 'зачесть'),\n",
              " ('счёт', 'зачесть'),\n",
              " ('погашение', 'зачесть'),\n",
              " ('кредит', 'зачесть'),\n",
              " ('счёт', 'счёт'),\n",
              " ('либо', 'счёт'),\n",
              " ('зачесть', 'счёт'),\n",
              " ('погашение', 'счёт'),\n",
              " ('кредит', 'счёт'),\n",
              " ('либо', 'погашение'),\n",
              " ('зачесть', 'погашение'),\n",
              " ('счёт', 'погашение'),\n",
              " ('кредит', 'погашение'),\n",
              " ('зачесть', 'кредит'),\n",
              " ('счёт', 'кредит'),\n",
              " ('погашение', 'кредит')]"
            ]
          },
          "metadata": {},
          "execution_count": 20
        }
      ]
    },
    {
      "cell_type": "markdown",
      "metadata": {
        "id": "zUFpSvHJcn3N"
      },
      "source": [
        "# Expected\n",
        "\n",
        "```python\n",
        "[('почему', 'вопрос'),\n",
        " ('например', 'вопрос'),\n",
        " ('китайский', 'вопрос'),\n",
        " ('вопрос', 'почему'),\n",
        " ('например', 'почему'),\n",
        " ('китайский', 'почему'),\n",
        " ('японский', 'почему'),\n",
        " ('вопрос', 'например'),\n",
        " ('почему', 'например'),\n",
        " ('китайский', 'например'),\n",
        " ('японский', 'например'),\n",
        " ('UNK', 'например'),\n",
        " ('вопрос', 'китайский'),\n",
        " ('почему', 'китайский'),\n",
        " ('например', 'китайский'),\n",
        " ('японский', 'китайский'),\n",
        " ('UNK', 'китайский'),\n",
        " ('почему', 'японский'),\n",
        " ('например', 'японский'),\n",
        " ('китайский', 'японский'),\n",
        " ('UNK', 'японский'),\n",
        " ('например', 'UNK'),\n",
        " ('китайский', 'UNK'),\n",
        " ('японский', 'UNK')]\n",
        "```"
      ]
    },
    {
      "cell_type": "code",
      "metadata": {
        "id": "E_AEIF7Ocn3N"
      },
      "source": [
        "word2index = {}\n",
        "\n",
        "for text in corpus:\n",
        "    for token in text:\n",
        "        if token not in word2index:\n",
        "            word2index[token] = len(word2index)"
      ],
      "execution_count": null,
      "outputs": []
    },
    {
      "cell_type": "code",
      "metadata": {
        "id": "5Gj9F-HWcn3O",
        "colab": {
          "base_uri": "https://localhost:8080/"
        },
        "outputId": "f7f4d98c-94ef-4c3a-90fd-480b529cdd8e"
      },
      "source": [
        "len(word2index)"
      ],
      "execution_count": null,
      "outputs": [
        {
          "output_type": "execute_result",
          "data": {
            "text/plain": [
              "13076"
            ]
          },
          "metadata": {},
          "execution_count": 22
        }
      ]
    },
    {
      "cell_type": "code",
      "metadata": {
        "id": "kMEdBs2dcn3O",
        "colab": {
          "base_uri": "https://localhost:8080/"
        },
        "outputId": "182f6420-1600-470d-fb2b-51b53d68ad85"
      },
      "source": [
        "word2index['UNK']"
      ],
      "execution_count": null,
      "outputs": [
        {
          "output_type": "execute_result",
          "data": {
            "text/plain": [
              "1"
            ]
          },
          "metadata": {},
          "execution_count": 23
        }
      ]
    },
    {
      "cell_type": "code",
      "metadata": {
        "id": "lEoDeJHmcn3O",
        "colab": {
          "base_uri": "https://localhost:8080/"
        },
        "outputId": "200d5d5f-bc50-40a7-8dba-97218398c6d2"
      },
      "source": [
        "[word2index[tok] if tok in word2index else word2index['UNK'] for tok in 'мама мыть рама'.split()]"
      ],
      "execution_count": null,
      "outputs": [
        {
          "output_type": "execute_result",
          "data": {
            "text/plain": [
              "[1282, 8436, 1]"
            ]
          },
          "metadata": {},
          "execution_count": 24
        }
      ]
    },
    {
      "cell_type": "markdown",
      "metadata": {
        "id": "O4t5scNkcn3P"
      },
      "source": [
        "# Torch Dataset\n",
        "В торче есть очень удобная читалка данных"
      ]
    },
    {
      "cell_type": "code",
      "metadata": {
        "id": "6cXSFwCDcn3P"
      },
      "source": [
        "from torch.utils.data import Dataset, DataLoader"
      ],
      "execution_count": null,
      "outputs": []
    },
    {
      "cell_type": "code",
      "metadata": {
        "id": "KgzA4o7Ocn3P"
      },
      "source": [
        "# игрушечный датасет\n",
        "# 121535 примера, 4 фичи, 3 класса\n",
        "some_data_x = np.random.rand(121535, 4)\n",
        "some_data_y = np.random.randint(3, size=(121535,))"
      ],
      "execution_count": null,
      "outputs": []
    },
    {
      "cell_type": "code",
      "metadata": {
        "id": "FgBZcWGjcn3P",
        "colab": {
          "base_uri": "https://localhost:8080/"
        },
        "outputId": "8a353d09-f8b9-4979-9442-30f315886757"
      },
      "source": [
        "# соверешенно игрушечный, просто цифры\n",
        "some_data_x[:10]"
      ],
      "execution_count": null,
      "outputs": [
        {
          "output_type": "execute_result",
          "data": {
            "text/plain": [
              "array([[9.14151518e-04, 7.19569838e-01, 1.55217094e-02, 8.67124757e-01],\n",
              "       [3.76686267e-01, 7.85968863e-01, 9.32151295e-01, 2.70864058e-01],\n",
              "       [6.85684321e-01, 1.06446579e-01, 6.18417888e-01, 7.30691825e-01],\n",
              "       [7.35150791e-01, 3.27875934e-01, 1.83344504e-01, 1.51468933e-01],\n",
              "       [2.04818838e-01, 6.20814628e-01, 9.85530004e-01, 5.01868258e-01],\n",
              "       [3.45354731e-01, 8.78087382e-01, 1.60585517e-01, 3.25222974e-02],\n",
              "       [4.35932553e-01, 4.90025767e-01, 3.93317169e-01, 8.71239382e-01],\n",
              "       [5.65687961e-01, 3.21168512e-01, 5.13128565e-01, 7.02608086e-01],\n",
              "       [3.65604707e-02, 8.31289872e-01, 2.52431599e-01, 1.52273857e-01],\n",
              "       [3.80458267e-01, 2.98042533e-01, 9.28773841e-01, 8.42145166e-01]])"
            ]
          },
          "metadata": {},
          "execution_count": 27
        }
      ]
    },
    {
      "cell_type": "code",
      "metadata": {
        "id": "dS8aeejxcn3P",
        "colab": {
          "base_uri": "https://localhost:8080/"
        },
        "outputId": "66f2caf6-5ddd-4877-ffb2-a4f0cdc37aeb"
      },
      "source": [
        "some_data_y"
      ],
      "execution_count": null,
      "outputs": [
        {
          "output_type": "execute_result",
          "data": {
            "text/plain": [
              "array([2, 0, 1, ..., 1, 2, 2])"
            ]
          },
          "metadata": {},
          "execution_count": 28
        }
      ]
    },
    {
      "cell_type": "code",
      "metadata": {
        "id": "U8dxjxQkcn3P"
      },
      "source": [
        "class ToyDataset(Dataset):\n",
        "    \n",
        "    def __init__(self, data_x, data_y):\n",
        "        \n",
        "        super().__init__()\n",
        "        \n",
        "        self.data_x = data_x\n",
        "        self.data_y = data_y\n",
        "        \n",
        "    def __len__(self):\n",
        "        \n",
        "        # Нужно обязательно определить эту функцию\n",
        "        # Должна возвращать размер датасета\n",
        "        \n",
        "        return len(self.data_x)\n",
        "    \n",
        "    def __getitem__(self, idx):\n",
        "        \n",
        "        # Еще нужно определить этот метод\n",
        "        # То есть как мы будем доставать наши данные по индексу\n",
        "        \n",
        "        return self.data_x[idx], self.data_y[idx]"
      ],
      "execution_count": null,
      "outputs": []
    },
    {
      "cell_type": "code",
      "metadata": {
        "id": "K8rw8H85cn3Q"
      },
      "source": [
        "some_dataset = ToyDataset(some_data_x, some_data_y)"
      ],
      "execution_count": null,
      "outputs": []
    },
    {
      "cell_type": "code",
      "metadata": {
        "id": "msR1UOIhcn3Q",
        "colab": {
          "base_uri": "https://localhost:8080/"
        },
        "outputId": "a67f594d-79fa-4d93-befc-5e704d263be9"
      },
      "source": [
        "some_dataset[5], some_dataset[467]"
      ],
      "execution_count": null,
      "outputs": [
        {
          "output_type": "execute_result",
          "data": {
            "text/plain": [
              "((array([0.34535473, 0.87808738, 0.16058552, 0.0325223 ]), 2),\n",
              " (array([0.28871674, 0.91621344, 0.60706399, 0.13484217]), 0))"
            ]
          },
          "metadata": {},
          "execution_count": 31
        }
      ]
    },
    {
      "cell_type": "code",
      "metadata": {
        "id": "pESDx7Tzcn3Q"
      },
      "source": [
        "some_loader = DataLoader(some_dataset, batch_size=16, shuffle=True)"
      ],
      "execution_count": null,
      "outputs": []
    },
    {
      "cell_type": "code",
      "metadata": {
        "id": "vJnmiKKqcn3Q",
        "colab": {
          "base_uri": "https://localhost:8080/"
        },
        "outputId": "6c8eb2d4-19ac-4aa7-b6d3-65190472c376"
      },
      "source": [
        "for x, y in some_loader:\n",
        "    break\n",
        "    \n",
        "len(x), x"
      ],
      "execution_count": null,
      "outputs": [
        {
          "output_type": "execute_result",
          "data": {
            "text/plain": [
              "(16, tensor([[0.2934, 0.4890, 0.2976, 0.3820],\n",
              "         [0.8925, 0.1845, 0.7941, 0.8977],\n",
              "         [0.6836, 0.6421, 0.1018, 0.9402],\n",
              "         [0.1485, 0.1628, 0.7234, 0.8308],\n",
              "         [0.9078, 0.9101, 0.1575, 0.3684],\n",
              "         [0.1950, 0.5396, 0.7621, 0.6644],\n",
              "         [0.7894, 0.3735, 0.5620, 0.4530],\n",
              "         [0.5926, 0.5733, 0.4101, 0.1999],\n",
              "         [0.8206, 0.5165, 0.2558, 0.2399],\n",
              "         [0.5119, 0.9547, 0.2108, 0.7088],\n",
              "         [0.0550, 0.2425, 0.8029, 0.5122],\n",
              "         [0.1053, 0.0266, 0.2822, 0.4289],\n",
              "         [0.0686, 0.0227, 0.4131, 0.0564],\n",
              "         [0.3092, 0.9747, 0.9579, 0.1765],\n",
              "         [0.9607, 0.1521, 0.8540, 0.1759],\n",
              "         [0.2696, 0.4297, 0.9372, 0.5505]], dtype=torch.float64))"
            ]
          },
          "metadata": {},
          "execution_count": 33
        }
      ]
    },
    {
      "cell_type": "code",
      "metadata": {
        "id": "uy1vtSYtcn3Q",
        "colab": {
          "base_uri": "https://localhost:8080/"
        },
        "outputId": "a3944247-2302-4c3f-d872-f384e3ccf3e8"
      },
      "source": [
        "for x, y in some_loader:\n",
        "    pass\n",
        "\n",
        "len(x)"
      ],
      "execution_count": null,
      "outputs": [
        {
          "output_type": "execute_result",
          "data": {
            "text/plain": [
              "15"
            ]
          },
          "metadata": {},
          "execution_count": 34
        }
      ]
    },
    {
      "cell_type": "code",
      "metadata": {
        "id": "O_-suGQjcn3R",
        "colab": {
          "base_uri": "https://localhost:8080/"
        },
        "outputId": "5dcd60e7-78ab-486c-a2cc-531a9206ecc6"
      },
      "source": [
        "# почему 13?\n",
        "# потому что количество наших данных нацело не делится на 16\n",
        "# и поэтому последний батч меньше 16-ти\n",
        "len(some_dataset) % 16"
      ],
      "execution_count": null,
      "outputs": [
        {
          "output_type": "execute_result",
          "data": {
            "text/plain": [
              "15"
            ]
          },
          "metadata": {},
          "execution_count": 35
        }
      ]
    },
    {
      "cell_type": "markdown",
      "metadata": {
        "id": "sEGReV8bcn3R"
      },
      "source": [
        "# А зачем?"
      ]
    },
    {
      "cell_type": "code",
      "metadata": {
        "id": "Pfr-3VZocn3R"
      },
      "source": [
        "class ToyDataset(Dataset):\n",
        "    \n",
        "    def __init__(self, data_x, data_y):\n",
        "        \n",
        "        super().__init__()\n",
        "        \n",
        "        self.data_x = data_x\n",
        "        self.data_y = data_y\n",
        "        \n",
        "    def __len__(self):\n",
        "        \n",
        "        # Нужно обязательно определить эту функцию\n",
        "        # Должна возвращать размер датасета\n",
        "        \n",
        "        return len(self.data_x)\n",
        "    \n",
        "    @staticmethod\n",
        "    def add_pow_features(x, n=2):\n",
        "        \n",
        "        return np.concatenate([x, x ** n]) \n",
        "    \n",
        "    @staticmethod\n",
        "    def add_log_features(x):\n",
        "        \n",
        "        return np.concatenate([x, np.log(x)]) \n",
        "    \n",
        "    def __getitem__(self, idx):\n",
        "        \n",
        "        # Еще нужно определить этот метод\n",
        "        # То есть как мы будем доставать наши данные по индексу\n",
        "        \n",
        "        x = self.data_x[idx]\n",
        "        \n",
        "        # внутри датасета мы можем делать все что угодно с нашими данными\n",
        "        # например выше определим функции, которые добавляют степенные фичи\n",
        "        x = self.add_pow_features(x, n=2)\n",
        "        x = self.add_pow_features(x, n=3)\n",
        "        # и еще возьмем логарифмические фичи\n",
        "        x = self.add_log_features(x)\n",
        "        \n",
        "        y = self.data_y[idx]\n",
        "        \n",
        "        return x, y"
      ],
      "execution_count": null,
      "outputs": []
    },
    {
      "cell_type": "code",
      "metadata": {
        "id": "mfAjQNvRcn3R"
      },
      "source": [
        "toy_dataset = ToyDataset(some_data_x, some_data_y)"
      ],
      "execution_count": null,
      "outputs": []
    },
    {
      "cell_type": "code",
      "metadata": {
        "id": "S7Jow1ggcn3R"
      },
      "source": [
        "toy_loader = DataLoader(dataset=toy_dataset, batch_size=128)"
      ],
      "execution_count": null,
      "outputs": []
    },
    {
      "cell_type": "code",
      "metadata": {
        "id": "Eq9eOZF-cn3S"
      },
      "source": [
        "for x, y in toy_loader:\n",
        "    break"
      ],
      "execution_count": null,
      "outputs": []
    },
    {
      "cell_type": "code",
      "metadata": {
        "id": "-dijDittcn3S",
        "colab": {
          "base_uri": "https://localhost:8080/"
        },
        "outputId": "7d1efabd-50b6-4a14-efbe-29c777f01c21"
      },
      "source": [
        "x.shape"
      ],
      "execution_count": null,
      "outputs": [
        {
          "output_type": "execute_result",
          "data": {
            "text/plain": [
              "torch.Size([128, 32])"
            ]
          },
          "metadata": {},
          "execution_count": 40
        }
      ]
    },
    {
      "cell_type": "code",
      "metadata": {
        "id": "r69ntPx5cn3S",
        "colab": {
          "base_uri": "https://localhost:8080/"
        },
        "outputId": "7cb1d0e7-cb04-4d11-986b-66ec0b45b89b"
      },
      "source": [
        "# заметим, что мы сразу получаем торчовый формат данных\n",
        "x"
      ],
      "execution_count": null,
      "outputs": [
        {
          "output_type": "execute_result",
          "data": {
            "text/plain": [
              "tensor([[ 9.1415e-04,  7.1957e-01,  1.5522e-02,  ..., -1.9746e+00,\n",
              "         -2.4993e+01, -8.5543e-01],\n",
              "        [ 3.7669e-01,  7.8597e-01,  9.3215e-01,  ..., -1.4450e+00,\n",
              "         -4.2156e-01, -7.8368e+00],\n",
              "        [ 6.8568e-01,  1.0645e-01,  6.1842e-01,  ..., -1.3441e+01,\n",
              "         -2.8835e+00, -1.8826e+00],\n",
              "        ...,\n",
              "        [ 1.8462e-01,  8.2524e-02,  9.3912e-01,  ..., -1.4968e+01,\n",
              "         -3.7690e-01, -1.4666e+00],\n",
              "        [ 5.3007e-01,  4.8827e-01,  9.4019e-01,  ..., -4.3013e+00,\n",
              "         -3.7004e-01, -2.2120e+01],\n",
              "        [ 2.2669e-01,  7.8145e-01,  8.9423e-01,  ..., -1.4796e+00,\n",
              "         -6.7075e-01, -6.0015e+00]], dtype=torch.float64)"
            ]
          },
          "metadata": {},
          "execution_count": 41
        }
      ]
    },
    {
      "cell_type": "code",
      "metadata": {
        "id": "lPBFKul0cn3S",
        "colab": {
          "base_uri": "https://localhost:8080/"
        },
        "outputId": "96ff77d3-110a-4a01-e2a6-fcd179fd8c26"
      },
      "source": [
        "y"
      ],
      "execution_count": null,
      "outputs": [
        {
          "output_type": "execute_result",
          "data": {
            "text/plain": [
              "tensor([2, 0, 1, 1, 2, 2, 1, 1, 2, 0, 0, 2, 2, 0, 0, 2, 0, 2, 2, 1, 2, 2, 1, 2,\n",
              "        1, 1, 2, 1, 2, 0, 2, 0, 0, 2, 2, 2, 1, 1, 2, 2, 2, 2, 0, 2, 2, 1, 2, 1,\n",
              "        2, 1, 0, 2, 0, 1, 1, 2, 1, 2, 0, 0, 1, 1, 0, 1, 1, 2, 1, 1, 0, 2, 0, 0,\n",
              "        0, 2, 0, 0, 2, 2, 1, 1, 2, 0, 2, 1, 1, 2, 2, 1, 0, 1, 1, 1, 0, 2, 1, 2,\n",
              "        2, 1, 2, 0, 1, 2, 0, 1, 0, 1, 2, 2, 0, 1, 1, 0, 2, 2, 0, 2, 1, 1, 2, 1,\n",
              "        0, 2, 0, 0, 1, 0, 0, 1])"
            ]
          },
          "metadata": {},
          "execution_count": 42
        }
      ]
    },
    {
      "cell_type": "markdown",
      "metadata": {
        "id": "2yCtK1GPcn3S"
      },
      "source": [
        "# Если вы ничего здесь не понимаете, то вернитесь в конец первой домашки, там все объясняется"
      ]
    },
    {
      "cell_type": "code",
      "metadata": {
        "id": "v7P6f5X0cn3T"
      },
      "source": [
        "model = torch.nn.Sequential(torch.nn.Linear(32, 16),\n",
        "                            torch.nn.ReLU(),\n",
        "                            torch.nn.Linear(16, 8),\n",
        "                            torch.nn.ReLU(),\n",
        "                            torch.nn.Linear(8, 3))\n",
        "\n",
        "criterion = torch.nn.CrossEntropyLoss()"
      ],
      "execution_count": null,
      "outputs": []
    },
    {
      "cell_type": "code",
      "metadata": {
        "id": "JY-nk0RFcn3T",
        "colab": {
          "base_uri": "https://localhost:8080/"
        },
        "outputId": "73da606c-2c5d-466c-ee79-f7093f1ea36d"
      },
      "source": [
        "with torch.no_grad():\n",
        "\n",
        "    prediction = model(x.float())\n",
        "\n",
        "    loss = criterion(prediction, y)\n",
        "    \n",
        "loss.item()"
      ],
      "execution_count": null,
      "outputs": [
        {
          "output_type": "execute_result",
          "data": {
            "text/plain": [
              "1.1060870885849"
            ]
          },
          "metadata": {},
          "execution_count": 44
        }
      ]
    },
    {
      "cell_type": "markdown",
      "metadata": {
        "id": "yULXIbPacn3T"
      },
      "source": [
        "# Боевые датасеты"
      ]
    },
    {
      "cell_type": "code",
      "metadata": {
        "id": "tx__3Gt-cn3U"
      },
      "source": [
        "class CBOWDataset(Dataset):\n",
        "\n",
        "    def __init__(self,\n",
        "                 corpus,\n",
        "                 word2index,\n",
        "                 window=2,\n",
        "                 unk_token='UNK',\n",
        "                 pad_token='PAD',\n",
        "                 collect_verbose=True):\n",
        "\n",
        "        self.corpus = corpus\n",
        "        self.word2index = word2index\n",
        "        self.index2word = {value: key for key, value in self.word2index.items()}\n",
        "        self.window = window\n",
        "\n",
        "        self.unk_token = unk_token\n",
        "        self.unk_index = self.word2index[self.unk_token]\n",
        "\n",
        "        self.pad_token = pad_token\n",
        "        self.pad_index = len(self.word2index)\n",
        "\n",
        "        self.collect_verbose = collect_verbose\n",
        "\n",
        "        self.data = []\n",
        "\n",
        "        self.collect_data()\n",
        "\n",
        "    def __len__(self):\n",
        "\n",
        "        return len(self.data)\n",
        "\n",
        "    def _split_function(self, tokenized_text):\n",
        "\n",
        "        splits = []\n",
        "\n",
        "        for n in range(len(tokenized_text)):\n",
        "            left_context = tokenized_text[np.maximum(n - self.window, 0):n]\n",
        "            left_context = ([self.pad_index] * (self.window - len(left_context))) + left_context\n",
        "\n",
        "            central_word = tokenized_text[n]\n",
        "\n",
        "            right_context = tokenized_text[n + 1:n + self.window + 1]\n",
        "            right_context = right_context + ([self.pad_index] * (self.window - len(right_context)))\n",
        "\n",
        "            splits.append((left_context + right_context, central_word))\n",
        "\n",
        "        return splits\n",
        "\n",
        "    def indexing(self, tokenized_text):\n",
        "\n",
        "        return [self.word2index[token] if token in self.word2index else self.unk_index for token in tokenized_text]\n",
        "\n",
        "    def collect_data(self):\n",
        "\n",
        "        corpus = tqdm(self.corpus, disable=not self.collect_verbose)\n",
        "\n",
        "        for tokenized_text in corpus:\n",
        "            indexed_text = self.indexing(tokenized_text)\n",
        "            cbow_examples = self._split_function(indexed_text)\n",
        "\n",
        "            self.data.extend(cbow_examples)\n",
        "\n",
        "    def __getitem__(self, idx):\n",
        "\n",
        "        context, central_word = self.data[idx]\n",
        "\n",
        "        context = torch.Tensor(context).long()\n",
        "\n",
        "        return context, central_word"
      ],
      "execution_count": null,
      "outputs": []
    },
    {
      "cell_type": "markdown",
      "metadata": {
        "id": "r178yJ6ccn3U"
      },
      "source": [
        "# Мы будем учить модель Skipgram\n",
        "Реализуйте читалку данных"
      ]
    },
    {
      "cell_type": "code",
      "metadata": {
        "id": "pIqfQu_Fcn3U"
      },
      "source": [
        "class SkipgramDataset(Dataset):\n",
        "\n",
        "    def __init__(self,\n",
        "                 corpus,\n",
        "                 word2index,\n",
        "                 window=2,\n",
        "                 unk_token='UNK',\n",
        "                 collect_verbose=True):\n",
        "\n",
        "        self.corpus = corpus\n",
        "        self.word2index = word2index\n",
        "        self.index2word = {value: key for key, value in self.word2index.items()}\n",
        "        self.window = window\n",
        "\n",
        "        self.unk_token = unk_token\n",
        "        self.unk_index = self.word2index[self.unk_token]\n",
        "\n",
        "        self.collect_verbose = collect_verbose\n",
        "\n",
        "        self.data = []\n",
        "\n",
        "        self.collect_data()\n",
        "\n",
        "    def __len__(self):\n",
        "\n",
        "        return len(self.data)\n",
        "\n",
        "    def _split_function(self, tokenized_text):\n",
        "\n",
        "        splits = []\n",
        "\n",
        "        for i, token in enumerate(tokens):\n",
        "            for j in range(max(i - window, 0), i):\n",
        "                splits.append((tokens[j], token))\n",
        "            if i != len(tokens) - 1:\n",
        "                for j in range(i + 1, min(len(tokens), i + 1 + window)):\n",
        "                    splits.append((tokens[j], token))\n",
        "        return splits\n",
        "\n",
        "    def indexing(self, tokenized_text):\n",
        "\n",
        "        return [self.word2index[token] if token in self.word2index else self.unk_index for token in tokenized_text]\n",
        "\n",
        "    def collect_data(self):\n",
        "\n",
        "        corpus = tqdm(self.corpus, disable=not self.collect_verbose)\n",
        "\n",
        "        for tokenized_text in corpus:\n",
        "            indexed_text = self.indexing(tokenized_text)\n",
        "            skipgram_examples = self._split_function(indexed_text)\n",
        "\n",
        "            self.data.extend(skipgram_examples)\n",
        "\n",
        "    def __getitem__(self, idx):\n",
        "        \n",
        "        context, central_word = self.data[idx]\n",
        "\n",
        "        return context, central_word"
      ],
      "execution_count": null,
      "outputs": []
    },
    {
      "cell_type": "code",
      "metadata": {
        "id": "G79VhJJKcn3V"
      },
      "source": [
        "# можете положить SkipgramDataset в отдельный файлик, например word2vec_utils и относительным импортом достать его \n",
        "#from .word2vec_utils import SkipgramDataset"
      ],
      "execution_count": null,
      "outputs": []
    },
    {
      "cell_type": "code",
      "metadata": {
        "scrolled": true,
        "id": "qwobwpazcn3V",
        "colab": {
          "base_uri": "https://localhost:8080/"
        },
        "outputId": "3d986552-f2f3-484b-806f-e16804f8b145"
      },
      "source": [
        "dataset = SkipgramDataset(corpus, word2index)"
      ],
      "execution_count": null,
      "outputs": [
        {
          "output_type": "stream",
          "name": "stderr",
          "text": [
            "100%|██████████| 100000/100000 [00:02<00:00, 36620.42it/s]\n"
          ]
        }
      ]
    },
    {
      "cell_type": "code",
      "metadata": {
        "id": "ORzYkKW2cn3V"
      },
      "source": [
        "BATCH_SIZE = 512"
      ],
      "execution_count": null,
      "outputs": []
    },
    {
      "cell_type": "code",
      "metadata": {
        "id": "RdaGxrdccn3V"
      },
      "source": [
        "dataset_loader = DataLoader(dataset, shuffle=True, batch_size=BATCH_SIZE)"
      ],
      "execution_count": null,
      "outputs": []
    },
    {
      "cell_type": "code",
      "metadata": {
        "id": "RzMe4Te_cn3V"
      },
      "source": [
        "for x, y in dataset_loader:\n",
        "    break"
      ],
      "execution_count": null,
      "outputs": []
    },
    {
      "cell_type": "code",
      "metadata": {
        "id": "VjARTh3Ycn3V",
        "colab": {
          "base_uri": "https://localhost:8080/"
        },
        "outputId": "4a6626fb-5a3b-46c3-dda0-95bed55433a5"
      },
      "source": [
        "x[:5]"
      ],
      "execution_count": null,
      "outputs": [
        {
          "output_type": "execute_result",
          "data": {
            "text/plain": [
              "tensor([1124,   72, 1168,  202,  346])"
            ]
          },
          "metadata": {},
          "execution_count": 52
        }
      ]
    },
    {
      "cell_type": "code",
      "metadata": {
        "id": "eo-EfUFacn3W",
        "colab": {
          "base_uri": "https://localhost:8080/"
        },
        "outputId": "c2a6f531-6b27-4ffa-8a7c-6b79f20b5f22"
      },
      "source": [
        "y[:5]"
      ],
      "execution_count": null,
      "outputs": [
        {
          "output_type": "execute_result",
          "data": {
            "text/plain": [
              "tensor([595,  21, 312,  40,  37])"
            ]
          },
          "metadata": {},
          "execution_count": 53
        }
      ]
    },
    {
      "cell_type": "code",
      "metadata": {
        "id": "3ThHzuAgcn3W",
        "colab": {
          "base_uri": "https://localhost:8080/"
        },
        "outputId": "60a444ba-d698-4886-e6ae-b1ed5ba0e5c5"
      },
      "source": [
        "x.shape, y.shape"
      ],
      "execution_count": null,
      "outputs": [
        {
          "output_type": "execute_result",
          "data": {
            "text/plain": [
              "(torch.Size([512]), torch.Size([512]))"
            ]
          },
          "metadata": {},
          "execution_count": 54
        }
      ]
    },
    {
      "cell_type": "code",
      "metadata": {
        "id": "hAMyRzxIcn3W"
      },
      "source": [
        "class CBOW(torch.nn.Module):\n",
        "    \n",
        "    def __init__(self, vocab_size, embedding_dim, pad_index):\n",
        "        \n",
        "        super().__init__()\n",
        "        \n",
        "        if pad_index > 0:\n",
        "            vocab_size += 1\n",
        "        \n",
        "        self.in_embedding = torch.nn.Embedding(num_embeddings=vocab_size, \n",
        "                                               embedding_dim=embedding_dim,\n",
        "                                               padding_idx=pad_index)\n",
        "        \n",
        "        self.out_embedding = torch.nn.Linear(in_features=embedding_dim,\n",
        "                                             out_features=vocab_size, bias=False)\n",
        "        \n",
        "    def forward(self, x):\n",
        "        \n",
        "        x = self.in_embedding(x).sum(dim=-2)\n",
        "        x = self.out_embedding(x)\n",
        "        \n",
        "        return x"
      ],
      "execution_count": null,
      "outputs": []
    },
    {
      "cell_type": "markdown",
      "metadata": {
        "id": "lDg3M4p1cn3W"
      },
      "source": [
        "# Мы будем учить модель Skipgram\n",
        "Реализуйте ее"
      ]
    },
    {
      "cell_type": "code",
      "metadata": {
        "id": "o_kH_z3jcn3W"
      },
      "source": [
        "class SkipGram(torch.nn.Module):\n",
        "    def __init__(self, vocab_size, embedding_dim):\n",
        "        \n",
        "        super().__init__()\n",
        "        \n",
        "        self.in_embedding = torch.nn.Embedding(num_embeddings=vocab_size, \n",
        "                                               embedding_dim=embedding_dim)\n",
        "        \n",
        "        self.out_embedding = torch.nn.Linear(in_features=embedding_dim,\n",
        "                                             out_features=vocab_size, bias=False)\n",
        "        \n",
        "    def forward(self, x):\n",
        "        \n",
        "        x = self.in_embedding(x)\n",
        "        x = self.out_embedding(x)\n",
        "        \n",
        "        return x"
      ],
      "execution_count": null,
      "outputs": []
    },
    {
      "cell_type": "code",
      "metadata": {
        "id": "6iEskeMccn3W"
      },
      "source": [
        "#from word2vec_utils import SkipGram"
      ],
      "execution_count": null,
      "outputs": []
    },
    {
      "cell_type": "code",
      "metadata": {
        "id": "ueOabhtUcn3X"
      },
      "source": [
        "# размерность эмбеддинга\n",
        "# маленькая, чтобы мы могли недолго поучить ворд2век и увидеть результаты\n",
        "EMBEDDING_DIM = 20"
      ],
      "execution_count": null,
      "outputs": []
    },
    {
      "cell_type": "code",
      "metadata": {
        "id": "a-wbPFRfcn3X"
      },
      "source": [
        "model = SkipGram(vocab_size=len(word2index), embedding_dim=EMBEDDING_DIM)"
      ],
      "execution_count": null,
      "outputs": []
    },
    {
      "cell_type": "code",
      "metadata": {
        "id": "LgSLQ4aicn3X",
        "colab": {
          "base_uri": "https://localhost:8080/"
        },
        "outputId": "90695f1c-7520-48c9-c454-2b7b263aac92"
      },
      "source": [
        "with torch.no_grad():\n",
        "    pred = model(x)\n",
        "\n",
        "pred.shape"
      ],
      "execution_count": null,
      "outputs": [
        {
          "output_type": "execute_result",
          "data": {
            "text/plain": [
              "torch.Size([512, 13076])"
            ]
          },
          "metadata": {},
          "execution_count": 60
        }
      ]
    },
    {
      "cell_type": "code",
      "metadata": {
        "id": "mHrwY6l3cn3X"
      },
      "source": [
        "optimizer = torch.optim.Adam(params=model.parameters(), lr=0.0001)\n",
        "\n",
        "# aka loss function\n",
        "criterion = torch.nn.CrossEntropyLoss()"
      ],
      "execution_count": null,
      "outputs": []
    },
    {
      "cell_type": "markdown",
      "metadata": {
        "id": "R7VwwjfOcn3X"
      },
      "source": [
        "# Допишите обучалку"
      ]
    },
    {
      "cell_type": "code",
      "metadata": {
        "id": "PSEbpqBmcn3X",
        "colab": {
          "base_uri": "https://localhost:8080/"
        },
        "outputId": "4d396e6e-00a5-408f-87f8-81e96d39fa56"
      },
      "source": [
        "epochs = 5\n",
        "\n",
        "losses = []\n",
        "\n",
        "for n_epoch in range(epochs):\n",
        "\n",
        "    try:\n",
        "\n",
        "        progress_bar = tqdm(total=len(dataset_loader.dataset), desc='Epoch {}'.format(n_epoch + 1))\n",
        "\n",
        "        for x, y in dataset_loader:\n",
        "\n",
        "            optimizer.zero_grad()\n",
        "            pred = model(x)\n",
        "            loss = criterion(pred, y)\n",
        "            loss.backward()\n",
        "            optimizer.step()\n",
        "            \n",
        "            losses.append(loss.item())\n",
        "            \n",
        "            progress_bar.set_postfix(loss=np.mean(losses[-100:]))\n",
        "\n",
        "            progress_bar.update(x.shape[0])\n",
        "\n",
        "        progress_bar.close()\n",
        "\n",
        "    except KeyboardInterrupt:\n",
        "\n",
        "        progress_bar.close()\n",
        "        break"
      ],
      "execution_count": null,
      "outputs": [
        {
          "output_type": "stream",
          "name": "stderr",
          "text": [
            "Epoch 1: 100%|██████████| 2983124/2983124 [07:36<00:00, 6534.57it/s, loss=9.03]\n",
            "Epoch 2: 100%|██████████| 2983124/2983124 [07:31<00:00, 6611.86it/s, loss=8.12]\n",
            "Epoch 3: 100%|██████████| 2983124/2983124 [07:30<00:00, 6620.96it/s, loss=7.64]\n",
            "Epoch 4: 100%|██████████| 2983124/2983124 [07:27<00:00, 6660.23it/s, loss=7.41]\n",
            "Epoch 5: 100%|██████████| 2983124/2983124 [07:30<00:00, 6622.49it/s, loss=7.28]\n"
          ]
        }
      ]
    },
    {
      "cell_type": "code",
      "metadata": {
        "id": "SkYDwjTocn3Y",
        "colab": {
          "base_uri": "https://localhost:8080/",
          "height": 312
        },
        "outputId": "76c1dd7e-5581-42ae-a574-7bae71c3c284"
      },
      "source": [
        "plt.title('SkipGram Training Process')\n",
        "plt.xlabel('Itearations')\n",
        "plt.ylabel('Loss')\n",
        "plt.grid()\n",
        "plt.plot(losses)"
      ],
      "execution_count": null,
      "outputs": [
        {
          "output_type": "execute_result",
          "data": {
            "text/plain": [
              "[<matplotlib.lines.Line2D at 0x7f44e8bc1750>]"
            ]
          },
          "metadata": {},
          "execution_count": 63
        },
        {
          "output_type": "display_data",
          "data": {
            "image/png": "[encoded data removed]",
            "text/plain": [
              "<Figure size 432x288 with 1 Axes>"
            ]
          },
          "metadata": {
            "needs_background": "light"
          }
        }
      ]
    },
    {
      "cell_type": "code",
      "metadata": {
        "id": "d2k-0Vnlcn3Y"
      },
      "source": [
        "# проверка, что хоть что-то выучилось\n",
        "assert np.mean(losses[-1000:]) < 7.5"
      ],
      "execution_count": null,
      "outputs": []
    },
    {
      "cell_type": "code",
      "metadata": {
        "id": "ZhKikBqScn3Y"
      },
      "source": [
        "embedding_matrix = model.in_embedding.weight.detach()"
      ],
      "execution_count": null,
      "outputs": []
    },
    {
      "cell_type": "code",
      "metadata": {
        "id": "F6KQaFEzcn3Y"
      },
      "source": [
        "def cos_sim(embedding_matrix, token2id, word1, word2):\n",
        "    \n",
        "    i1 = token2id[word1]\n",
        "    i2 = token2id[word2]\n",
        "    \n",
        "    v1, v2 = embedding_matrix[i1], embedding_matrix[i2]\n",
        "    \n",
        "    v1_n = v1.div(v1.norm(keepdim=True))\n",
        "    v2_n = v2.div(v2.norm(keepdim=True))\n",
        "    \n",
        "    similarity = torch.dot(v1_n, v2_n).norm().item()\n",
        "    \n",
        "    return similarity"
      ],
      "execution_count": 123,
      "outputs": []
    },
    {
      "cell_type": "markdown",
      "metadata": {
        "id": "r_q7MNW9cn3Y"
      },
      "source": [
        "# Косинусная близость\n",
        "От 0 до 1, где 0 - вектора абсолютно разные, где 1 - идентичные."
      ]
    },
    {
      "cell_type": "code",
      "metadata": {
        "id": "oeC1sj4ucn3Y",
        "colab": {
          "base_uri": "https://localhost:8080/"
        },
        "outputId": "f2f64518-5a44-4f40-db7a-b05184207030"
      },
      "source": [
        "cos_sim(embedding_matrix, word2index, 'день', 'месяц')"
      ],
      "execution_count": null,
      "outputs": [
        {
          "output_type": "execute_result",
          "data": {
            "text/plain": [
              "0.0963108092546463"
            ]
          },
          "metadata": {},
          "execution_count": 67
        }
      ]
    },
    {
      "cell_type": "code",
      "metadata": {
        "id": "mhuyFudxcn3Z",
        "colab": {
          "base_uri": "https://localhost:8080/"
        },
        "outputId": "70d37c78-0e7b-437a-869c-9ee0ef95e33c"
      },
      "source": [
        "cos_sim(embedding_matrix, word2index, 'минута', 'месяц')"
      ],
      "execution_count": null,
      "outputs": [
        {
          "output_type": "execute_result",
          "data": {
            "text/plain": [
              "0.6124574542045593"
            ]
          },
          "metadata": {},
          "execution_count": 68
        }
      ]
    },
    {
      "cell_type": "code",
      "metadata": {
        "id": "jdjZMAhscn3Z",
        "colab": {
          "base_uri": "https://localhost:8080/"
        },
        "outputId": "89d1ea25-3da6-477b-f976-ce4be77845c8"
      },
      "source": [
        "cos_sim(embedding_matrix, word2index, 'сотрудник', 'сотрудница')"
      ],
      "execution_count": null,
      "outputs": [
        {
          "output_type": "execute_result",
          "data": {
            "text/plain": [
              "0.12210060656070709"
            ]
          },
          "metadata": {},
          "execution_count": 69
        }
      ]
    },
    {
      "cell_type": "code",
      "metadata": {
        "id": "hgQxQyv1cn3Z",
        "colab": {
          "base_uri": "https://localhost:8080/"
        },
        "outputId": "d59f2239-4283-416b-c4b6-bb3d83a4113c"
      },
      "source": [
        "cos_sim(embedding_matrix, word2index, 'вклад', 'перевод')"
      ],
      "execution_count": null,
      "outputs": [
        {
          "output_type": "execute_result",
          "data": {
            "text/plain": [
              "0.21637246012687683"
            ]
          },
          "metadata": {},
          "execution_count": 70
        }
      ]
    },
    {
      "cell_type": "code",
      "metadata": {
        "id": "NC8bJ8rPcn3Z",
        "colab": {
          "base_uri": "https://localhost:8080/",
          "height": 35
        },
        "outputId": "2d90ff39-29c6-4423-b06a-07922bd0cd66"
      },
      "source": [
        "random_word = random.choice(list(word2index.keys()))\n",
        "sim = cos_sim(embedding_matrix, word2index, 'день', random_word)\n",
        "'Косинусная близость слова \"день\" к случайному выбраному слову \"{}\" равна {:.3f}'.format(random_word, sim)"
      ],
      "execution_count": null,
      "outputs": [
        {
          "output_type": "execute_result",
          "data": {
            "application/vnd.google.colaboratory.intrinsic+json": {
              "type": "string"
            },
            "text/plain": [
              "'Косинусная близость слова \"день\" к случайному выбраному слову \"отказный\" равна 0.442'"
            ]
          },
          "metadata": {},
          "execution_count": 71
        }
      ]
    },
    {
      "cell_type": "code",
      "metadata": {
        "id": "QyYwcHxqcn3Z"
      },
      "source": [
        "freq = {}\n",
        "\n",
        "for text in corpus:\n",
        "    for token in text:\n",
        "        if token in freq:\n",
        "            freq[token] += 1\n",
        "        else:\n",
        "            freq[token] = 1"
      ],
      "execution_count": null,
      "outputs": []
    },
    {
      "cell_type": "code",
      "metadata": {
        "id": "Zrj6MLbCcn3a"
      },
      "source": [
        "sorted_freq = [(k, freq[k]) for k in sorted(freq, key=freq.get, reverse=True)]\n",
        "top_sorted_freq = sorted_freq[0:200]"
      ],
      "execution_count": null,
      "outputs": []
    },
    {
      "cell_type": "code",
      "metadata": {
        "id": "cvw-Rr60cn3a",
        "colab": {
          "base_uri": "https://localhost:8080/"
        },
        "outputId": "3cb34afe-7fb8-4f39-8cf1-7313b725f708"
      },
      "source": [
        "tsne = TSNE(n_components=2, init='pca', random_state=42, verbose=2)\n",
        "reduced = tsne.fit_transform(embedding_matrix)"
      ],
      "execution_count": null,
      "outputs": [
        {
          "output_type": "stream",
          "name": "stderr",
          "text": [
            "/usr/local/lib/python3.7/dist-packages/sklearn/manifold/_t_sne.py:793: FutureWarning: The default learning rate in TSNE will change from 200.0 to 'auto' in 1.2.\n",
            "  FutureWarning,\n"
          ]
        },
        {
          "output_type": "stream",
          "name": "stdout",
          "text": [
            "[t-SNE] Computing 91 nearest neighbors...\n",
            "[t-SNE] Indexed 13076 samples in 0.001s...\n",
            "[t-SNE] Computed neighbors for 13076 samples in 4.687s...\n",
            "[t-SNE] Computed conditional probabilities for sample 1000 / 13076\n",
            "[t-SNE] Computed conditional probabilities for sample 2000 / 13076\n",
            "[t-SNE] Computed conditional probabilities for sample 3000 / 13076\n",
            "[t-SNE] Computed conditional probabilities for sample 4000 / 13076\n",
            "[t-SNE] Computed conditional probabilities for sample 5000 / 13076\n",
            "[t-SNE] Computed conditional probabilities for sample 6000 / 13076\n",
            "[t-SNE] Computed conditional probabilities for sample 7000 / 13076\n",
            "[t-SNE] Computed conditional probabilities for sample 8000 / 13076\n",
            "[t-SNE] Computed conditional probabilities for sample 9000 / 13076\n",
            "[t-SNE] Computed conditional probabilities for sample 10000 / 13076\n",
            "[t-SNE] Computed conditional probabilities for sample 11000 / 13076\n",
            "[t-SNE] Computed conditional probabilities for sample 12000 / 13076\n",
            "[t-SNE] Computed conditional probabilities for sample 13000 / 13076\n",
            "[t-SNE] Computed conditional probabilities for sample 13076 / 13076\n",
            "[t-SNE] Mean sigma: 1.213205\n",
            "[t-SNE] Computed conditional probabilities in 0.549s\n"
          ]
        },
        {
          "output_type": "stream",
          "name": "stderr",
          "text": [
            "/usr/local/lib/python3.7/dist-packages/sklearn/manifold/_t_sne.py:986: FutureWarning: The PCA initialization in TSNE will change to have the standard deviation of PC1 equal to 1e-4 in 1.2. This will ensure better convergence.\n",
            "  FutureWarning,\n"
          ]
        },
        {
          "output_type": "stream",
          "name": "stdout",
          "text": [
            "[t-SNE] Iteration 50: error = 98.9293137, gradient norm = 0.0000007 (50 iterations in 7.769s)\n",
            "[t-SNE] Iteration 100: error = 98.9302063, gradient norm = 0.0000000 (50 iterations in 4.007s)\n",
            "[t-SNE] Iteration 100: gradient norm 0.000000. Finished.\n",
            "[t-SNE] KL divergence after 100 iterations with early exaggeration: 98.930206\n",
            "[t-SNE] Iteration 150: error = 5.7575741, gradient norm = 0.0000019 (50 iterations in 3.985s)\n",
            "[t-SNE] Iteration 200: error = 5.0917358, gradient norm = 0.0010943 (50 iterations in 13.817s)\n",
            "[t-SNE] Iteration 250: error = 4.9408941, gradient norm = 0.0004520 (50 iterations in 6.012s)\n",
            "[t-SNE] Iteration 300: error = 4.8436451, gradient norm = 0.0002954 (50 iterations in 5.797s)\n",
            "[t-SNE] Iteration 350: error = 4.7692432, gradient norm = 0.0002186 (50 iterations in 5.665s)\n",
            "[t-SNE] Iteration 400: error = 4.7099676, gradient norm = 0.0001740 (50 iterations in 5.610s)\n",
            "[t-SNE] Iteration 450: error = 4.6624088, gradient norm = 0.0001397 (50 iterations in 5.712s)\n",
            "[t-SNE] Iteration 500: error = 4.6228099, gradient norm = 0.0001162 (50 iterations in 5.657s)\n",
            "[t-SNE] Iteration 550: error = 4.5895071, gradient norm = 0.0000999 (50 iterations in 5.754s)\n",
            "[t-SNE] Iteration 600: error = 4.5615020, gradient norm = 0.0000850 (50 iterations in 5.834s)\n",
            "[t-SNE] Iteration 650: error = 4.5376005, gradient norm = 0.0000748 (50 iterations in 5.789s)\n",
            "[t-SNE] Iteration 700: error = 4.5173783, gradient norm = 0.0000665 (50 iterations in 5.845s)\n",
            "[t-SNE] Iteration 750: error = 4.4999933, gradient norm = 0.0000576 (50 iterations in 5.787s)\n",
            "[t-SNE] Iteration 800: error = 4.4849005, gradient norm = 0.0000539 (50 iterations in 5.749s)\n",
            "[t-SNE] Iteration 850: error = 4.4721365, gradient norm = 0.0000519 (50 iterations in 5.848s)\n",
            "[t-SNE] Iteration 900: error = 4.4615221, gradient norm = 0.0000464 (50 iterations in 5.862s)\n",
            "[t-SNE] Iteration 950: error = 4.4521456, gradient norm = 0.0000463 (50 iterations in 5.921s)\n",
            "[t-SNE] Iteration 1000: error = 4.4443221, gradient norm = 0.0000437 (50 iterations in 5.833s)\n",
            "[t-SNE] KL divergence after 1000 iterations: 4.444322\n"
          ]
        }
      ]
    },
    {
      "cell_type": "code",
      "metadata": {
        "id": "yYeoaXlbcn3a"
      },
      "source": [
        "top_words = [a for a,_ in top_sorted_freq]"
      ],
      "execution_count": null,
      "outputs": []
    },
    {
      "cell_type": "code",
      "metadata": {
        "id": "I0OIbHP8cn3a"
      },
      "source": [
        "inds = [word2index[word] for word in top_words]\n",
        "x_coords = [coords[0] for coords in reduced[inds]]\n",
        "y_coords = [coords[1] for coords in reduced[inds]]"
      ],
      "execution_count": null,
      "outputs": []
    },
    {
      "cell_type": "code",
      "metadata": {
        "id": "3UDz2lJDcn3a",
        "colab": {
          "base_uri": "https://localhost:8080/",
          "height": 265
        },
        "outputId": "fc2a2ced-1097-4fff-8387-bb4cc0ade3db"
      },
      "source": [
        "for (x, y, word) in zip(x_coords, y_coords, top_words):\n",
        "    plt.scatter(x, y, marker='.', color='blue')\n",
        "    plt.text(x+0.01, y+0.01, word, fontsize=9)\n",
        "plt.show()"
      ],
      "execution_count": null,
      "outputs": [
        {
          "output_type": "display_data",
          "data": {
            "image/png": "[encoded data removed]",
            "text/plain": [
              "<Figure size 432x288 with 1 Axes>"
            ]
          },
          "metadata": {
            "needs_background": "light"
          }
        }
      ]
    },
    {
      "cell_type": "markdown",
      "metadata": {
        "id": "7y-2QuRBQcdZ"
      },
      "source": [
        "# Корпус"
      ]
    },
    {
      "cell_type": "code",
      "metadata": {
        "pycharm": {
          "name": "#%%\n"
        },
        "id": "2N7GDGs8cn3c"
      },
      "source": [
        "import pandas as pd\n",
        "from sklearn.metrics import mean_squared_error\n",
        "from sklearn import preprocessing\n",
        "\n",
        "df = pd.read_csv('ru_simlex965_tagged.tsv', delimiter='\\t')"
      ],
      "execution_count": null,
      "outputs": []
    },
    {
      "cell_type": "code",
      "metadata": {
        "colab": {
          "base_uri": "https://localhost:8080/",
          "height": 423
        },
        "id": "E7x52jS4IKyE",
        "outputId": "4afec88e-80bc-4f4c-9ed7-93d7aea3ca1d"
      },
      "source": [
        "df"
      ],
      "execution_count": null,
      "outputs": [
        {
          "output_type": "execute_result",
          "data": {
            "text/html": [
              "<div>\n",
              "<style scoped>\n",
              "    .dataframe tbody tr th:only-of-type {\n",
              "        vertical-align: middle;\n",
              "    }\n",
              "\n",
              "    .dataframe tbody tr th {\n",
              "        vertical-align: top;\n",
              "    }\n",
              "\n",
              "    .dataframe thead th {\n",
              "        text-align: right;\n",
              "    }\n",
              "</style>\n",
              "<table border=\"1\" class=\"dataframe\">\n",
              "  <thead>\n",
              "    <tr style=\"text-align: right;\">\n",
              "      <th></th>\n",
              "      <th># Word1</th>\n",
              "      <th>Word2</th>\n",
              "      <th>Average Score</th>\n",
              "    </tr>\n",
              "  </thead>\n",
              "  <tbody>\n",
              "    <tr>\n",
              "      <th>0</th>\n",
              "      <td>авария_NOUN</td>\n",
              "      <td>бедствие_NOUN</td>\n",
              "      <td>6.15</td>\n",
              "    </tr>\n",
              "    <tr>\n",
              "      <th>1</th>\n",
              "      <td>август_NOUN</td>\n",
              "      <td>месяц_NOUN</td>\n",
              "      <td>2.85</td>\n",
              "    </tr>\n",
              "    <tr>\n",
              "      <th>2</th>\n",
              "      <td>авиация_NOUN</td>\n",
              "      <td>полет_NOUN</td>\n",
              "      <td>6.77</td>\n",
              "    </tr>\n",
              "    <tr>\n",
              "      <th>3</th>\n",
              "      <td>автомобиль_NOUN</td>\n",
              "      <td>гудок_NOUN</td>\n",
              "      <td>1.85</td>\n",
              "    </tr>\n",
              "    <tr>\n",
              "      <th>4</th>\n",
              "      <td>автомобиль_NOUN</td>\n",
              "      <td>автострада_NOUN</td>\n",
              "      <td>1.23</td>\n",
              "    </tr>\n",
              "    <tr>\n",
              "      <th>...</th>\n",
              "      <td>...</td>\n",
              "      <td>...</td>\n",
              "      <td>...</td>\n",
              "    </tr>\n",
              "    <tr>\n",
              "      <th>960</th>\n",
              "      <td>яблоко_NOUN</td>\n",
              "      <td>солнце_NOUN</td>\n",
              "      <td>0.15</td>\n",
              "    </tr>\n",
              "    <tr>\n",
              "      <th>961</th>\n",
              "      <td>ядро_NOUN</td>\n",
              "      <td>пушка_NOUN</td>\n",
              "      <td>2.77</td>\n",
              "    </tr>\n",
              "    <tr>\n",
              "      <th>962</th>\n",
              "      <td>язык_NOUN</td>\n",
              "      <td>горло_NOUN</td>\n",
              "      <td>1.38</td>\n",
              "    </tr>\n",
              "    <tr>\n",
              "      <th>963</th>\n",
              "      <td>ярд_NOUN</td>\n",
              "      <td>дюйм_NOUN</td>\n",
              "      <td>2.62</td>\n",
              "    </tr>\n",
              "    <tr>\n",
              "      <th>964</th>\n",
              "      <td>яростный_ADJ</td>\n",
              "      <td>злой_ADJ</td>\n",
              "      <td>7.46</td>\n",
              "    </tr>\n",
              "  </tbody>\n",
              "</table>\n",
              "<p>965 rows × 3 columns</p>\n",
              "</div>"
            ],
            "text/plain": [
              "             # Word1            Word2  Average Score\n",
              "0        авария_NOUN    бедствие_NOUN           6.15\n",
              "1        август_NOUN       месяц_NOUN           2.85\n",
              "2       авиация_NOUN       полет_NOUN           6.77\n",
              "3    автомобиль_NOUN       гудок_NOUN           1.85\n",
              "4    автомобиль_NOUN  автострада_NOUN           1.23\n",
              "..               ...              ...            ...\n",
              "960      яблоко_NOUN      солнце_NOUN           0.15\n",
              "961        ядро_NOUN       пушка_NOUN           2.77\n",
              "962        язык_NOUN       горло_NOUN           1.38\n",
              "963         ярд_NOUN        дюйм_NOUN           2.62\n",
              "964     яростный_ADJ         злой_ADJ           7.46\n",
              "\n",
              "[965 rows x 3 columns]"
            ]
          },
          "metadata": {},
          "execution_count": 79
        }
      ]
    },
    {
      "cell_type": "code",
      "metadata": {
        "id": "BoAawRduIWLO"
      },
      "source": [
        "df['# Word1'] = df['# Word1'].apply(lambda x: x.split('_')[0])\n",
        "df['Word2'] = df['Word2'].apply(lambda x: x.split('_')[0])\n",
        "avg_score = df['Average Score'].to_numpy()\n",
        "avg_score_norm = preprocessing.normalize([avg_score])\n",
        "df['Average Score'] = avg_score_norm[0].tolist()"
      ],
      "execution_count": null,
      "outputs": []
    },
    {
      "cell_type": "code",
      "metadata": {
        "id": "kC1BGxZqJbt3"
      },
      "source": [
        "def check(embedding_matrix, word2index, df):\n",
        "  \n",
        "    cossim = []\n",
        "\n",
        "    for i in range(len(df)):\n",
        "        if df['# Word1'][i] in list(word2index.keys()) and df['Word2'][i] in list(word2index.keys()):\n",
        "            cossim.append(cos_sim(embedding_matrix, word2index, df['# Word1'][i],df['Word2'][i]))\n",
        "        else:\n",
        "            cossim.append(None)\n",
        "\n",
        "    return np.array(cossim)"
      ],
      "execution_count": null,
      "outputs": []
    },
    {
      "cell_type": "code",
      "metadata": {
        "colab": {
          "base_uri": "https://localhost:8080/"
        },
        "id": "N5QsyMrRLuy2",
        "outputId": "e25f4eb5-4b60-4921-e4f6-96c8ce3c0a04"
      },
      "source": [
        "check(embedding_matrix, word2index, df)"
      ],
      "execution_count": null,
      "outputs": [
        {
          "output_type": "execute_result",
          "data": {
            "text/plain": [
              "array([None, 0.020493358373641968, None, 0.3987937271595001, None,\n",
              "       0.04993004351854324, None, 0.051740340888500214, None,\n",
              "       0.4561101198196411, None, None, 0.0653143972158432,\n",
              "       0.24378865957260132, None, None, None, None, None, None, None,\n",
              "       None, None, -0.06921400874853134, None, None, -0.14557483792304993,\n",
              "       0.014490112662315369, 0.08974747359752655, None, None, None, None,\n",
              "       0.19616685807704926, None, None, None, None, None,\n",
              "       0.15906257927417755, None, None, None, None, None, None, None,\n",
              "       0.12139801681041718, None, 0.2105417549610138, None, None, None,\n",
              "       None, 0.35641616582870483, 0.4666283428668976, 0.3020172715187073,\n",
              "       None, -0.08336825668811798, 0.2087782621383667, None, None,\n",
              "       0.38974735140800476, 0.5379781723022461, 0.30108168721199036,\n",
              "       0.012127131223678589, None, None, None, None, None, None, None,\n",
              "       None, None, -0.26278141140937805, None, None, None, None,\n",
              "       -0.164124995470047, 0.08704479038715363, None,\n",
              "       0.024994898587465286, None, None, -0.09223148971796036, None,\n",
              "       -0.1256343573331833, 0.6481667757034302, -0.004196338355541229,\n",
              "       None, None, None, None, None, 0.23850375413894653,\n",
              "       -0.2621864676475525, None, None, 0.036113593727350235, None, None,\n",
              "       0.3068651556968689, None, None, None, None, -0.07898688316345215,\n",
              "       None, None, None, None, 0.19004708528518677, 0.11048789322376251,\n",
              "       0.34720954298973083, 0.012822508811950684, None, None,\n",
              "       0.04142355918884277, None, 0.44707566499710083,\n",
              "       0.06369566172361374, -0.03517217934131622, -0.05929470807313919,\n",
              "       0.293729692697525, -0.028904825448989868, 0.12502580881118774,\n",
              "       None, -0.11615993082523346, None, None, 0.1608256846666336,\n",
              "       0.0901908427476883, None, None, None, -0.17706112563610077, None,\n",
              "       None, None, 0.5303620100021362, None, 0.3760043978691101,\n",
              "       0.4703350365161896, 0.20081382989883423, 0.13369904458522797, None,\n",
              "       0.22012749314308167, None, 0.21098512411117554,\n",
              "       -0.05258001759648323, 0.44561856985092163, 0.011415675282478333,\n",
              "       -0.38210487365722656, None, -0.17746424674987793,\n",
              "       0.32964903116226196, 0.1761760711669922, 0.3923889100551605,\n",
              "       0.09705997258424759, 0.39050978422164917, -0.16297893226146698,\n",
              "       None, -0.02696053311228752, None, None, None, None, None, None,\n",
              "       -0.04411008954048157, 0.020439136773347855, 0.4462943375110626,\n",
              "       -0.17678123712539673, -0.16815683245658875, 0.33051007986068726,\n",
              "       None, None, 0.18427962064743042, -0.2185593843460083,\n",
              "       -0.00538460910320282, 0.1370941549539566, 0.021524757146835327,\n",
              "       None, None, 0.032984063029289246, -0.12004232406616211,\n",
              "       0.20383259654045105, 0.27143481373786926, -0.1331762820482254,\n",
              "       None, None, -0.12314987927675247, None, None, -0.48293232917785645,\n",
              "       0.21308591961860657, -0.14046511054039001, None,\n",
              "       -0.03340229392051697, None, 0.20715828239917755,\n",
              "       0.15638643503189087, -0.33492276072502136, 0.11080363392829895,\n",
              "       None, None, 0.17194606363773346, 0.16743750870227814,\n",
              "       0.41425859928131104, -0.049194708466529846, None, None,\n",
              "       0.38885748386383057, None, None, None, None, 0.08464889228343964,\n",
              "       None, None, 0.4737768769264221, -0.3756048381328583,\n",
              "       0.46413296461105347, None, None, 0.1298229694366455,\n",
              "       0.32807302474975586, 0.23991210758686066, 0.18424510955810547,\n",
              "       -0.15713487565517426, -0.11424626410007477, 0.246748685836792,\n",
              "       0.19861456751823425, None, -0.153609961271286, None, None,\n",
              "       -0.11828231811523438, 0.29465124011039734, 0.4021438956260681,\n",
              "       None, 0.1502031683921814, None, None, None, 0.035966694355010986,\n",
              "       0.22911420464515686, None, -0.16422760486602783,\n",
              "       0.008776888251304626, 0.3627508878707886, 0.2217886596918106,\n",
              "       0.5303947925567627, 0.4238644540309906, None, -0.1549009084701538,\n",
              "       0.21635876595973969, None, -0.02120278775691986,\n",
              "       0.3629590570926666, 0.43476197123527527, 0.4152486026287079,\n",
              "       0.25444716215133667, 0.20084717869758606, None,\n",
              "       0.03785613924264908, None, 0.36922043561935425,\n",
              "       0.22029727697372437, 0.10955148935317993, 0.24168752133846283,\n",
              "       0.3369658589363098, 0.07366355508565903, 0.37140220403671265,\n",
              "       0.00675070658326149, None, None, None, -0.3549795150756836,\n",
              "       -0.2656482756137848, -0.19323740899562836, 0.011029496788978577,\n",
              "       None, -0.12989339232444763, 0.17891743779182434, None, None,\n",
              "       0.2678137421607971, None, None, None, None, None, None, None,\n",
              "       -0.12354050576686859, 0.006485357880592346, None, None, None,\n",
              "       0.28900307416915894, -0.28035444021224976, 0.01782841980457306,\n",
              "       0.395810067653656, None, 0.029218092560768127, None,\n",
              "       0.134340301156044, 0.5136216878890991, None, 0.5366647839546204,\n",
              "       0.050557419657707214, None, None, None, None, 0.1255216896533966,\n",
              "       None, None, -0.0007020831108093262, -0.236412912607193, None,\n",
              "       0.29532063007354736, None, None, None, None, -0.12060900032520294,\n",
              "       None, None, None, None, None, 0.019610881805419922,\n",
              "       -0.4175657033920288, 0.1721845269203186, None, 0.43839725852012634,\n",
              "       0.14041194319725037, 0.41244250535964966, None,\n",
              "       0.20661838352680206, None, None, 0.18545837700366974,\n",
              "       0.38747942447662354, 0.3813157081604004, -0.14011356234550476,\n",
              "       None, None, None, None, None, None, None, 0.29583242535591125,\n",
              "       -0.022053174674510956, 0.12728212773799896, 0.3896450102329254,\n",
              "       None, -0.17991739511489868, 0.23103190958499908, None, None, None,\n",
              "       None, None, None, 0.08568090200424194, None, None, None, None,\n",
              "       None, None, None, None, 0.1648338884115219, None, None,\n",
              "       -0.04843922331929207, None, None, 0.19357921183109283, None, None,\n",
              "       0.03150464594364166, None, 0.13635419309139252,\n",
              "       -0.2424691915512085, None, None, None, None, 0.11815612018108368,\n",
              "       None, 0.09792116284370422, None, None, None, None,\n",
              "       -0.18301363289356232, -0.08516830205917358, None, None,\n",
              "       0.12479118257761002, 0.4616450071334839, 0.16646847128868103,\n",
              "       0.11345167458057404, None, None, 0.23736339807510376,\n",
              "       -0.08284090459346771, None, None, None, None,\n",
              "       -0.0023127272725105286, None, 0.02683265507221222,\n",
              "       -0.043311115354299545, None, 0.2580782175064087, None, None,\n",
              "       0.20989371836185455, None, None, -0.007248908281326294, None, None,\n",
              "       None, None, None, None, None, 0.5551713109016418,\n",
              "       0.09463940560817719, 0.12768316268920898, -0.37144744396209717,\n",
              "       0.198614239692688, None, None, None, 0.4857594072818756,\n",
              "       -0.3731832802295685, -0.016259856522083282, None,\n",
              "       0.2231309413909912, -0.000848919153213501, None,\n",
              "       0.1784667670726776, 0.30208224058151245, -0.15044572949409485,\n",
              "       0.5422579050064087, 0.04948004335165024, -0.09601780772209167,\n",
              "       None, 0.41650667786598206, None, None, 0.09797400236129761,\n",
              "       -0.11490439623594284, -0.062019623816013336, 0.3169640302658081,\n",
              "       0.21279937028884888, 0.1319933980703354, -0.10626520216464996,\n",
              "       0.08924400061368942, 0.04269538074731827, None, None,\n",
              "       0.3478974997997284, -0.24559307098388672, -0.09298041462898254,\n",
              "       0.18406721949577332, 0.02293088287115097, 0.02162613719701767,\n",
              "       None, None, -0.5616997480392456, 0.1290963888168335,\n",
              "       0.4094069004058838, None, 0.33130207657814026, None, None, None,\n",
              "       None, 0.33931633830070496, 0.6405937671661377,\n",
              "       -0.20952951908111572, 0.3584907352924347, None,\n",
              "       0.33550989627838135, 0.4543972313404083, None, 0.24782584607601166,\n",
              "       0.19800496101379395, 0.016522932797670364, 0.3874937891960144,\n",
              "       None, 0.5192152261734009, None, None, None, 0.36093640327453613,\n",
              "       -0.1307741105556488, None, 0.06063340604305267, None, None, None,\n",
              "       None, 0.33920902013778687, None, None, 0.32120025157928467,\n",
              "       -0.21669499576091766, None, None, None, -0.2537629306316376, None,\n",
              "       None, None, -0.1184585765004158, -0.16875103116035461,\n",
              "       0.12666863203048706, 0.22997543215751648, None, 0.3837025761604309,\n",
              "       0.0909041315317154, 0.10563001781702042, -0.2084222435951233,\n",
              "       0.337638795375824, 0.4978180527687073, None, 0.34572216868400574,\n",
              "       None, 0.09098557382822037, 0.5476052165031433, None, None, None,\n",
              "       None, None, 0.49936437606811523, 0.31352925300598145, None,\n",
              "       -0.05587410926818848, None, -0.0910971611738205,\n",
              "       0.01703331619501114, -0.1321374922990799, None,\n",
              "       -0.17534050345420837, 0.07930157333612442, None,\n",
              "       0.43967604637145996, -0.29327937960624695, None,\n",
              "       0.08146364986896515, 0.4024266302585602, None,\n",
              "       -0.22800171375274658, -0.11478918790817261, None, None, None, None,\n",
              "       None, -0.29745903611183167, 0.188913494348526,\n",
              "       -0.06933614611625671, None, None, None, None, None, None, None,\n",
              "       -0.04586412012577057, -0.3762209415435791, -0.13679960370063782,\n",
              "       -0.14278526604175568, 0.0643576830625534, 0.15708909928798676,\n",
              "       0.314836710691452, None, 0.28592175245285034, None,\n",
              "       -0.010403066873550415, None, None, None, None, -0.056112140417099,\n",
              "       -0.04798046872019768, None, 0.4152486026287079,\n",
              "       0.032892435789108276, 0.2633245587348938, 0.15852220356464386,\n",
              "       0.2480127364397049, None, 0.15076453983783722, 0.04609839618206024,\n",
              "       None, -0.40451672673225403, 0.28552138805389404, None, None, None,\n",
              "       None, 0.21382679045200348, 0.11167828738689423, 0.4901163578033447,\n",
              "       None, None, 0.08650669455528259, 0.03683285415172577,\n",
              "       0.24959400296211243, 0.16981229186058044, 0.1539163887500763, None,\n",
              "       None, -0.1876676082611084, 0.1407102346420288, 0.01143357902765274,\n",
              "       -0.2828108072280884, 0.0940275639295578, None, 0.5254665613174438,\n",
              "       -0.20955777168273926, 0.22646237909793854, 0.20326128602027893,\n",
              "       -0.009706687182188034, 0.2525428235530853, 0.22619928419589996,\n",
              "       0.07865552604198456, 0.11151410639286041, None,\n",
              "       -0.1525043547153473, 0.29022133350372314, 0.05825170874595642,\n",
              "       0.06708718836307526, None, None, None, -0.09881845861673355,\n",
              "       -0.12708882987499237, -0.035534024238586426, None, None, None,\n",
              "       None, 0.5904959440231323, None, 0.3157972991466522,\n",
              "       0.5837558507919312, None, 0.29733964800834656, None, None,\n",
              "       -0.33639633655548096, -0.17638027667999268, -0.021689414978027344,\n",
              "       None, None, None, None, None, None, None, None, None,\n",
              "       -0.25373849272727966, None, None, 0.4198170304298401,\n",
              "       0.5260279774665833, None, -0.26656731963157654,\n",
              "       -0.11169183254241943, None, -0.3668624758720398,\n",
              "       -0.20113933086395264, -0.3466605842113495, 0.3033066689968109,\n",
              "       -0.006855938583612442, None, None, None, None, 0.25385111570358276,\n",
              "       None, -0.062445759773254395, 0.09740348905324936,\n",
              "       -0.0705491453409195, None, None, None, -0.20725709199905396, None,\n",
              "       -0.026333630084991455, 0.09690765291452408, 0.11842598021030426,\n",
              "       None, None, 0.007171273231506348, 0.07653418183326721, None, None,\n",
              "       0.02636747807264328, 0.2330581098794937, -0.032192595303058624,\n",
              "       None, None, None, None, None, 0.108233742415905, None, None,\n",
              "       0.025891877710819244, None, 0.33180540800094604,\n",
              "       0.46134716272354126, 0.2447960525751114, 0.40920060873031616, None,\n",
              "       None, None, None, None, 0.4905252754688263, None, None,\n",
              "       0.3055102825164795, 0.637477457523346, -0.05403302609920502, None,\n",
              "       None, -0.011593036353588104, -0.08602248877286911, None,\n",
              "       0.3923766613006592, -0.09616784751415253, -0.13399893045425415,\n",
              "       None, None, None, None, -0.5542957186698914, 0.286062091588974,\n",
              "       0.021942138671875, 0.1135871410369873, None, 0.22675573825836182,\n",
              "       -0.13384540379047394, -0.003769412636756897, 0.14657650887966156,\n",
              "       -0.09813135862350464, None, None, None, 0.3721906542778015, None,\n",
              "       0.07913047075271606, None, -0.17894352972507477,\n",
              "       -0.17936566472053528, -0.13170066475868225, 0.2553776502609253,\n",
              "       0.06393259763717651, None, 0.07133324444293976,\n",
              "       0.25864556431770325, -0.09198454022407532, 5.2906572818756104e-05,\n",
              "       0.5065138339996338, 0.29398953914642334, None,\n",
              "       -0.022791847586631775, -0.3696705102920532, -0.315437912940979,\n",
              "       -0.19390588998794556, None, -0.1488807499408722, None,\n",
              "       0.38997793197631836, 0.3228236436843872, -0.12281905114650726,\n",
              "       None, None, None, -0.40210914611816406, -0.3742389380931854,\n",
              "       -0.07679477334022522, 0.34526968002319336, 0.15467238426208496,\n",
              "       None, 0.2137809544801712, 0.18406721949577332, 0.09658661484718323,\n",
              "       -0.0603669136762619, None, None, None, None, -0.33856210112571716,\n",
              "       0.3910462558269501, 0.03296704590320587, None, None, None, None,\n",
              "       None, -0.10825604200363159, None, 0.16708041727542877, None,\n",
              "       -0.0874813050031662, 0.016131199896335602, -0.02570810168981552,\n",
              "       0.16370700299739838, 0.008628815412521362, None, None, None, None,\n",
              "       None, None, None, None, -0.28848230838775635, None,\n",
              "       0.10259104520082474, None, -0.2437998503446579, None,\n",
              "       0.24484024941921234, 0.31058675050735474, None,\n",
              "       -0.1272626519203186, None, None, None, None, None, None,\n",
              "       -0.07436978071928024, 0.11784236133098602, None,\n",
              "       0.019651085138320923, 0.1822138875722885, 0.31550732254981995,\n",
              "       -0.15707357227802277, 0.19481775164604187, -0.2787896692752838,\n",
              "       None, -0.6100361347198486, None, None, None, None,\n",
              "       -0.06788304448127747, None, 0.06622723489999771,\n",
              "       -0.15197846293449402, None, None, None, None, -0.153609961271286,\n",
              "       None, None, None, -0.015226878225803375, 0.288725346326828,\n",
              "       0.21917761862277985, -0.030935809016227722, 0.06817078590393066,\n",
              "       None, None, -0.2265329658985138, 0.13415245711803436,\n",
              "       0.29733964800834656, -0.13392674922943115, -0.1661054491996765,\n",
              "       0.18377695977687836, -0.11874515563249588, None, None,\n",
              "       0.09287181496620178, -0.30848485231399536, None,\n",
              "       0.4232448637485504, None, None, None, None, -0.4140275716781616,\n",
              "       -0.1104072779417038, 0.00138777494430542, None,\n",
              "       0.030727379024028778, -0.16292798519134521, 0.630043625831604,\n",
              "       None, 0.0038469210267066956, -0.00017207488417625427,\n",
              "       -0.19586077332496643, None, None, 0.08862622082233429, None,\n",
              "       0.47756361961364746, 0.36782950162887573, 0.3020329475402832,\n",
              "       0.2644636034965515, None, None, -0.12248430401086807,\n",
              "       -0.02583768218755722, -0.06678308546543121, 0.10988384485244751,\n",
              "       0.4048043489456177, 0.324754536151886, None, -0.011899322271347046,\n",
              "       None, None, -0.015226878225803375, -0.3309261202812195, None, None,\n",
              "       None, None, None, None, None, None, None, None, None, None,\n",
              "       0.19847087562084198, 0.12392421066761017, 0.3934076726436615,\n",
              "       -0.0579850971698761, 0.2543511390686035, 0.14163562655448914, None,\n",
              "       None, None, None, None, None, -0.24364539980888367, None, None],\n",
              "      dtype=object)"
            ]
          },
          "metadata": {},
          "execution_count": 83
        }
      ]
    },
    {
      "cell_type": "code",
      "metadata": {
        "id": "x6s0_UBHMH-a"
      },
      "source": [
        "y_true = np.array(df['Average Score'].tolist())\n",
        "y_pred = check(embedding_matrix, word2index, df)"
      ],
      "execution_count": 124,
      "outputs": []
    },
    {
      "cell_type": "code",
      "metadata": {
        "id": "d5IhPc35Ohew"
      },
      "source": [
        "y_true = np.delete(y_true, np.where(y_pred == None)[0])\n",
        "y_pred = np.delete(y_pred, np.where(y_pred == None)[0])"
      ],
      "execution_count": 125,
      "outputs": []
    },
    {
      "cell_type": "code",
      "metadata": {
        "colab": {
          "base_uri": "https://localhost:8080/"
        },
        "id": "BpAPfCnrOQtA",
        "outputId": "54c7c879-60bf-4aa7-dcbd-dd994bb98b24"
      },
      "source": [
        "mean_squared_error(y_true, y_pred)"
      ],
      "execution_count": 126,
      "outputs": [
        {
          "output_type": "execute_result",
          "data": {
            "text/plain": [
              "0.05464719928842341"
            ]
          },
          "metadata": {},
          "execution_count": 126
        }
      ]
    },
    {
      "cell_type": "markdown",
      "metadata": {
        "id": "QY1CvLkVQjIs"
      },
      "source": [
        "# Эксперимент"
      ]
    },
    {
      "cell_type": "code",
      "metadata": {
        "id": "IAIgSg074vJS"
      },
      "source": [
        "with open('data/new_processed_corpus.json') as f:\n",
        "    new_corpus = json.load(f)"
      ],
      "execution_count": 110,
      "outputs": []
    },
    {
      "cell_type": "code",
      "metadata": {
        "id": "VltzPwcj4vOy"
      },
      "source": [
        "new_word2index = {}\n",
        "\n",
        "for text in new_corpus:\n",
        "    for token in text:\n",
        "        if token not in new_word2index:\n",
        "            new_word2index[token] = len(new_word2index)"
      ],
      "execution_count": 111,
      "outputs": []
    },
    {
      "cell_type": "code",
      "metadata": {
        "id": "s7gwVEe34vL3",
        "colab": {
          "base_uri": "https://localhost:8080/"
        },
        "outputId": "47bced53-9c8e-41d6-eabc-b87b5bb6eb82"
      },
      "source": [
        "new_data = SkipgramDataset(new_corpus, new_word2index)\n",
        "new_data_loader = DataLoader(new_data, shuffle=True, batch_size=BATCH_SIZE)"
      ],
      "execution_count": 112,
      "outputs": [
        {
          "output_type": "stream",
          "name": "stderr",
          "text": [
            "100%|██████████| 150000/150000 [00:03<00:00, 40834.94it/s]\n"
          ]
        }
      ]
    },
    {
      "cell_type": "code",
      "metadata": {
        "id": "3GWZvaWa6PVT"
      },
      "source": [
        "EMBEDDING_DIM = 30\n",
        "new_model = SkipGram(vocab_size=len(new_word2index), embedding_dim=EMBEDDING_DIM)"
      ],
      "execution_count": 116,
      "outputs": []
    },
    {
      "cell_type": "code",
      "metadata": {
        "id": "cyvI-Uo145ga"
      },
      "source": [
        "optimizer = torch.optim.Adam(params=new_model.parameters(), lr=0.0001)\n",
        "\n",
        "# aka loss function\n",
        "criterion = torch.nn.CrossEntropyLoss()"
      ],
      "execution_count": 117,
      "outputs": []
    },
    {
      "cell_type": "code",
      "metadata": {
        "id": "0RUVuaHP48cx",
        "colab": {
          "base_uri": "https://localhost:8080/"
        },
        "outputId": "04adb32c-dbb2-469a-e737-e76c9fcb462a"
      },
      "source": [
        "epochs = 5\n",
        "\n",
        "losses = []\n",
        "\n",
        "for n_epoch in range(epochs):\n",
        "\n",
        "    try:\n",
        "\n",
        "        progress_bar = tqdm(total=len(new_data_loader.dataset), desc='Epoch {}'.format(n_epoch + 1))\n",
        "\n",
        "        for x, y in new_data_loader:\n",
        "\n",
        "            optimizer.zero_grad()\n",
        "            pred = new_model(x)\n",
        "            loss = criterion(pred, y)\n",
        "            loss.backward()\n",
        "            optimizer.step()\n",
        "            \n",
        "            losses.append(loss.item())\n",
        "            \n",
        "            progress_bar.set_postfix(loss=np.mean(losses[-100:]))\n",
        "\n",
        "            progress_bar.update(x.shape[0])\n",
        "\n",
        "        progress_bar.close()\n",
        "\n",
        "    except KeyboardInterrupt:\n",
        "\n",
        "        progress_bar.close()\n",
        "        break"
      ],
      "execution_count": 118,
      "outputs": [
        {
          "output_type": "stream",
          "name": "stderr",
          "text": [
            "Epoch 1: 100%|██████████| 4475654/4475654 [11:28<00:00, 6502.73it/s, loss=8.29]\n",
            "Epoch 2: 100%|██████████| 4475654/4475654 [11:07<00:00, 6705.54it/s, loss=7.47]\n",
            "Epoch 3: 100%|██████████| 4475654/4475654 [11:08<00:00, 6699.12it/s, loss=7.23]\n",
            "Epoch 4: 100%|██████████| 4475654/4475654 [11:13<00:00, 6648.30it/s, loss=7.13]\n",
            "Epoch 5: 100%|██████████| 4475654/4475654 [11:17<00:00, 6609.37it/s, loss=7.05]\n"
          ]
        }
      ]
    },
    {
      "cell_type": "code",
      "metadata": {
        "id": "RelXqSgeDu4d"
      },
      "source": [
        "new_embedding_matrix = new_model.in_embedding.weight.detach()"
      ],
      "execution_count": 119,
      "outputs": []
    },
    {
      "cell_type": "code",
      "metadata": {
        "id": "66pqi2qZD1cN"
      },
      "source": [
        "new_y_true = np.array(df['Average Score'].tolist())\n",
        "new_y_pred = check(new_embedding_matrix, new_word2index, df)"
      ],
      "execution_count": 127,
      "outputs": []
    },
    {
      "cell_type": "code",
      "metadata": {
        "id": "-nJ3996fEIe0"
      },
      "source": [
        "new_y_true = np.delete(new_y_true, np.where(new_y_pred == None)[0])\n",
        "new_y_pred = np.delete(new_y_pred, np.where(new_y_pred == None)[0])"
      ],
      "execution_count": 128,
      "outputs": []
    },
    {
      "cell_type": "code",
      "metadata": {
        "colab": {
          "base_uri": "https://localhost:8080/"
        },
        "id": "XCFpoGjvFCBd",
        "outputId": "035adf5e-6dc0-4be7-ff1e-bbc70a7e134f"
      },
      "source": [
        "mean_squared_error(new_y_true, new_y_pred)"
      ],
      "execution_count": 129,
      "outputs": [
        {
          "output_type": "execute_result",
          "data": {
            "text/plain": [
              "0.03554387055748024"
            ]
          },
          "metadata": {},
          "execution_count": 129
        }
      ]
    },
    {
      "cell_type": "markdown",
      "metadata": {
        "id": "zojmJYQ5RM8K"
      },
      "source": [
        "# Оценка\n",
        "1. Вы добрались сюда и все работает, значит уже получили 7 баллов.\n",
        "2. 8 баллов - Взяли корпус для оценка качества эмбеддингов [здесь](https://rusvectores.org/static/testsets/ru_simlex965_tagged.tsv). Описание к нему [здесь](https://arxiv.org/pdf/1801.06407.pdf). Его английская версия для понимания, того что же это такое [тут](https://fh295.github.io/simlex.html). Если в кратце - он похож а гугл аналогии, просто иначе составлен. Определили качество своих эмбеддингов. Как качество измерить? Можете все значения отнормировать (привести к 1) и затем считать MSE между тем что у вас и что в оригинале.\n",
        "3. 9 баллов - Поставили эксперименты, поменяли любые параметры, хоть корпус увеличили или как то почистили. Показали метрики до и после. После должно быть лучше, иначе это все еще 8 баллов.\n",
        "4. 10 баллов - удивили своим подходом (или просто удивили) пока делили на 9 баллов"
      ]
    },
    {
      "cell_type": "code",
      "metadata": {
        "id": "NxK-axb7RNX5"
      },
      "source": [
        ""
      ],
      "execution_count": null,
      "outputs": []
    }
  ]
}